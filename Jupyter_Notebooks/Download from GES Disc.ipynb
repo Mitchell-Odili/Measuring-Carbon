{
 "cells": [
  {
   "cell_type": "markdown",
   "id": "7497f617",
   "metadata": {},
   "source": [
    "## Download GESDISC Data"
   ]
  },
  {
   "cell_type": "markdown",
   "id": "4933efed",
   "metadata": {},
   "source": [
    "## Wget"
   ]
  },
  {
   "cell_type": "markdown",
   "id": "d788cdf1",
   "metadata": {},
   "source": [
    "NASA instructions - https://disc.gsfc.nasa.gov/data-access#opendap"
   ]
  },
  {
   "cell_type": "markdown",
   "id": "413b3776",
   "metadata": {},
   "source": [
    "wget --load-cookies C:\\.urs_cookies --save-cookies C:\\.urs_cookies --auth-no-challenge=on --keep-session-cookies --user=Mitchell_Odili --ask-password --content-disposition -i C:\\Users\\Ochibobo\\Arset\\subset_OCO2_L2_Lite_FP_10r_20220814_095923.txt --no-check-certificate"
   ]
  },
  {
   "cell_type": "markdown",
   "id": "d693f37d",
   "metadata": {},
   "source": [
    "Where the txt file is the downloaded links of list in the same directory as .urc_cookies - https://stackoverflow.com/questions/48743736/how-to-download-data-from-ges-disc-using-wget-for-windows-10"
   ]
  },
  {
   "cell_type": "markdown",
   "id": "3e73c6f6",
   "metadata": {},
   "source": [
    "## Using Requests"
   ]
  },
  {
   "cell_type": "markdown",
   "id": "d86a0563",
   "metadata": {},
   "source": [
    " Set the URL string to point to a specific data URL. Some generic examples are:\n",
    "1.  https://servername/data/path/file\n",
    "2. https://servername/opendap/path/file[.format[?subset]]\n",
    "3. https://servername/daac-bin/OTF/HTTP_services.cgi?KEYWORD=value[&KEYWORD=value] "
   ]
  },
  {
   "cell_type": "code",
   "execution_count": 22,
   "id": "a6625699",
   "metadata": {},
   "outputs": [],
   "source": [
    "URL = 'https://oco2.gesdisc.eosdis.nasa.gov/opendap/OCO2_L2_Lite_FP.10r/2021/contents.html'"
   ]
  },
  {
   "cell_type": "code",
   "execution_count": 25,
   "id": "424d4c56",
   "metadata": {},
   "outputs": [
    {
     "name": "stdout",
     "output_type": "stream",
     "text": [
      "contents of URL written to 2021_path_to_OCO-2.txt\n"
     ]
    }
   ],
   "source": [
    "# Set the FILENAME string to the data file name, the LABEL keyword value, or any customized name. \n",
    "FILENAME = '2021_path_to_OCO-2.txt'\n",
    "\n",
    "import requests\n",
    "result = requests.get(URL)\n",
    "try:\n",
    "  result.raise_for_status()\n",
    "  f = open(FILENAME,'wb')\n",
    "  f.write(result.content)\n",
    "  f.close()\n",
    "  print('contents of URL written to '+FILENAME)\n",
    "except:\n",
    "  print('requests.get() returned an error code '+str(result.status_code))"
   ]
  }
 ],
 "metadata": {
  "kernelspec": {
   "display_name": "Python 3 (ipykernel)",
   "language": "python",
   "name": "python3"
  },
  "language_info": {
   "codemirror_mode": {
    "name": "ipython",
    "version": 3
   },
   "file_extension": ".py",
   "mimetype": "text/x-python",
   "name": "python",
   "nbconvert_exporter": "python",
   "pygments_lexer": "ipython3",
   "version": "3.9.12"
  }
 },
 "nbformat": 4,
 "nbformat_minor": 5
}

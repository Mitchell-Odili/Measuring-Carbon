{
 "cells": [
  {
   "cell_type": "markdown",
   "id": "fc8eb5c2",
   "metadata": {},
   "source": [
    "## WHY conversion?\n",
    "- Most scientifc datasets comes with netCDF/ HDF format \n",
    "- To store large number of records and datasets that has high number of Variables/Attributes"
   ]
  },
  {
   "cell_type": "markdown",
   "id": "896e770b",
   "metadata": {},
   "source": [
    "### Libraries "
   ]
  },
  {
   "cell_type": "code",
   "execution_count": 1,
   "id": "8af9cfa2",
   "metadata": {},
   "outputs": [],
   "source": [
    "import numpy as np\n",
    "import pandas as pd\n",
    "import xarray as xr\n",
    "import h5py as h5\n",
    "import matplotlib.pyplot as plt\n",
    "import matplotlib\n",
    "import os\n",
    "import netCDF4 as netCDF\n",
    "\n",
    "# netCDF\n",
    "import netCDF4 as nc\n",
    "\n",
    "# basemap\n",
    "from mpl_toolkits.basemap import Basemap\n",
    "from datetime import datetime"
   ]
  },
  {
   "cell_type": "markdown",
   "id": "cf01c552",
   "metadata": {},
   "source": [
    "### Pre-built Path"
   ]
  },
  {
   "cell_type": "code",
   "execution_count": 2,
   "id": "92d510a2",
   "metadata": {},
   "outputs": [
    {
     "name": "stdout",
     "output_type": "stream",
     "text": [
      "C:/Users/Ochibobo/Arset/2021_data\\oco2_LtCO2_210102_B10206Ar_210922005052s.SUB.nc4\n",
      "C:/Users/Ochibobo/Arset/2021_data\\oco2_LtCO2_210103_B10206Ar_210922005524s.SUB.nc4\n",
      "C:/Users/Ochibobo/Arset/2021_data\\oco2_LtCO2_210104_B10206Ar_210922005930s.SUB.nc4\n",
      "C:/Users/Ochibobo/Arset/2021_data\\oco2_LtCO2_210105_B10206Ar_210922010440s.SUB.nc4\n",
      "C:/Users/Ochibobo/Arset/2021_data\\oco2_LtCO2_210106_B10206Ar_210922011147s.SUB.nc4\n",
      "C:/Users/Ochibobo/Arset/2021_data\\oco2_LtCO2_210107_B10206Ar_210922011944s.SUB.nc4\n",
      "C:/Users/Ochibobo/Arset/2021_data\\oco2_LtCO2_210108_B10206Ar_210922012632s.SUB.nc4\n",
      "C:/Users/Ochibobo/Arset/2021_data\\oco2_LtCO2_210109_B10206Ar_210922013418s.SUB.nc4\n",
      "C:/Users/Ochibobo/Arset/2021_data\\oco2_LtCO2_210110_B10206Ar_210922014053s.SUB.nc4\n",
      "C:/Users/Ochibobo/Arset/2021_data\\oco2_LtCO2_210111_B10206Ar_210922014946s.SUB.nc4\n",
      "C:/Users/Ochibobo/Arset/2021_data\\oco2_LtCO2_210112_B10206Ar_210922015621s.SUB.nc4\n",
      "C:/Users/Ochibobo/Arset/2021_data\\oco2_LtCO2_210113_B10206Ar_210922020458s.SUB.nc4\n",
      "C:/Users/Ochibobo/Arset/2021_data\\oco2_LtCO2_210114_B10206Ar_210922021421s.SUB.nc4\n",
      "C:/Users/Ochibobo/Arset/2021_data\\oco2_LtCO2_210115_B10206Ar_210922023020s.SUB.nc4\n",
      "C:/Users/Ochibobo/Arset/2021_data\\oco2_LtCO2_210116_B10206Ar_210922023857s.SUB.nc4\n",
      "C:/Users/Ochibobo/Arset/2021_data\\oco2_LtCO2_210117_B10206Ar_210922024358s.SUB.nc4\n",
      "C:/Users/Ochibobo/Arset/2021_data\\oco2_LtCO2_210118_B10206Ar_210922025831s.SUB.nc4\n",
      "C:/Users/Ochibobo/Arset/2021_data\\oco2_LtCO2_210119_B10206Ar_210922030740s.SUB.nc4\n",
      "C:/Users/Ochibobo/Arset/2021_data\\oco2_LtCO2_210120_B10206Ar_210922031748s.SUB.nc4\n",
      "C:/Users/Ochibobo/Arset/2021_data\\oco2_LtCO2_210121_B10206Ar_210922032317s.SUB.nc4\n",
      "C:/Users/Ochibobo/Arset/2021_data\\oco2_LtCO2_210122_B10206Ar_210922033124s.SUB.nc4\n",
      "C:/Users/Ochibobo/Arset/2021_data\\oco2_LtCO2_210123_B10206Ar_210922034322s.SUB.nc4\n",
      "C:/Users/Ochibobo/Arset/2021_data\\oco2_LtCO2_210124_B10206Ar_210922034756s.SUB.nc4\n",
      "C:/Users/Ochibobo/Arset/2021_data\\oco2_LtCO2_210125_B10206Ar_210922035251s.SUB.nc4\n",
      "C:/Users/Ochibobo/Arset/2021_data\\oco2_LtCO2_210126_B10206Ar_210922040054s.SUB.nc4\n",
      "C:/Users/Ochibobo/Arset/2021_data\\oco2_LtCO2_210127_B10206Ar_210922040505s.SUB.nc4\n",
      "C:/Users/Ochibobo/Arset/2021_data\\oco2_LtCO2_210128_B10206Ar_210922041352s.SUB.nc4\n",
      "C:/Users/Ochibobo/Arset/2021_data\\oco2_LtCO2_210129_B10206Ar_210922041946s.SUB.nc4\n",
      "C:/Users/Ochibobo/Arset/2021_data\\oco2_LtCO2_210130_B10206Ar_210922042619s.SUB.nc4\n",
      "C:/Users/Ochibobo/Arset/2021_data\\oco2_LtCO2_210131_B10206Ar_210922043152s.SUB.nc4\n",
      "C:/Users/Ochibobo/Arset/2021_data\\oco2_LtCO2_210201_B10206Ar_210922043933s.SUB.nc4\n",
      "C:/Users/Ochibobo/Arset/2021_data\\oco2_LtCO2_210208_B10206Ar_210916175413s.SUB.nc4\n",
      "C:/Users/Ochibobo/Arset/2021_data\\oco2_LtCO2_210209_B10206Ar_210916175413s.SUB.nc4\n",
      "C:/Users/Ochibobo/Arset/2021_data\\oco2_LtCO2_210210_B10206Ar_210916175848s.SUB.nc4\n",
      "C:/Users/Ochibobo/Arset/2021_data\\oco2_LtCO2_210211_B10206Ar_210916175932s.SUB.nc4\n",
      "C:/Users/Ochibobo/Arset/2021_data\\oco2_LtCO2_210212_B10206Ar_210916180524s.SUB.nc4\n",
      "C:/Users/Ochibobo/Arset/2021_data\\oco2_LtCO2_210213_B10206Ar_210916180651s.SUB.nc4\n",
      "C:/Users/Ochibobo/Arset/2021_data\\oco2_LtCO2_210214_B10206Ar_210916181045s.SUB.nc4\n",
      "C:/Users/Ochibobo/Arset/2021_data\\oco2_LtCO2_210215_B10206Ar_210916181220s.SUB.nc4\n",
      "C:/Users/Ochibobo/Arset/2021_data\\oco2_LtCO2_210216_B10206Ar_210916181644s.SUB.nc4\n",
      "C:/Users/Ochibobo/Arset/2021_data\\oco2_LtCO2_210217_B10206Ar_210916181810s.SUB.nc4\n",
      "C:/Users/Ochibobo/Arset/2021_data\\oco2_LtCO2_210218_B10206Ar_210916182146s.SUB.nc4\n",
      "C:/Users/Ochibobo/Arset/2021_data\\oco2_LtCO2_210219_B10206Ar_210916182349s.SUB.nc4\n",
      "C:/Users/Ochibobo/Arset/2021_data\\oco2_LtCO2_210220_B10206Ar_210916182624s.SUB.nc4\n",
      "C:/Users/Ochibobo/Arset/2021_data\\oco2_LtCO2_210221_B10206Ar_210916182839s.SUB.nc4\n",
      "C:/Users/Ochibobo/Arset/2021_data\\oco2_LtCO2_210222_B10206Ar_210916183043s.SUB.nc4\n",
      "C:/Users/Ochibobo/Arset/2021_data\\oco2_LtCO2_210223_B10206Ar_210916183405s.SUB.nc4\n",
      "C:/Users/Ochibobo/Arset/2021_data\\oco2_LtCO2_210224_B10206Ar_210916183722s.SUB.nc4\n",
      "C:/Users/Ochibobo/Arset/2021_data\\oco2_LtCO2_210225_B10206Ar_210916183841s.SUB.nc4\n",
      "C:/Users/Ochibobo/Arset/2021_data\\oco2_LtCO2_210226_B10206Ar_210916184150s.SUB.nc4\n",
      "C:/Users/Ochibobo/Arset/2021_data\\oco2_LtCO2_210227_B10206Ar_210916184404s.SUB.nc4\n",
      "C:/Users/Ochibobo/Arset/2021_data\\oco2_LtCO2_210228_B10206Ar_210922010612s.SUB.nc4\n",
      "C:/Users/Ochibobo/Arset/2021_data\\oco2_LtCO2_210301_B10206Ar_210922011451s.SUB.nc4\n",
      "C:/Users/Ochibobo/Arset/2021_data\\oco2_LtCO2_210302_B10206Ar_210922012220s.SUB.nc4\n",
      "C:/Users/Ochibobo/Arset/2021_data\\oco2_LtCO2_210303_B10206Ar_210922012913s.SUB.nc4\n",
      "C:/Users/Ochibobo/Arset/2021_data\\oco2_LtCO2_210304_B10206Ar_210922013626s.SUB.nc4\n",
      "C:/Users/Ochibobo/Arset/2021_data\\oco2_LtCO2_210305_B10206Ar_210922014503s.SUB.nc4\n",
      "C:/Users/Ochibobo/Arset/2021_data\\oco2_LtCO2_210306_B10206Ar_210922015221s.SUB.nc4\n",
      "C:/Users/Ochibobo/Arset/2021_data\\oco2_LtCO2_210307_B10206Ar_210922015914s.SUB.nc4\n",
      "C:/Users/Ochibobo/Arset/2021_data\\oco2_LtCO2_210308_B10206Ar_210922020835s.SUB.nc4\n",
      "C:/Users/Ochibobo/Arset/2021_data\\oco2_LtCO2_210309_B10206Ar_210922021757s.SUB.nc4\n",
      "C:/Users/Ochibobo/Arset/2021_data\\oco2_LtCO2_210310_B10206Ar_210922022555s.SUB.nc4\n",
      "C:/Users/Ochibobo/Arset/2021_data\\oco2_LtCO2_210311_B10206Ar_210922023447s.SUB.nc4\n",
      "C:/Users/Ochibobo/Arset/2021_data\\oco2_LtCO2_210312_B10206Ar_210922024940s.SUB.nc4\n",
      "C:/Users/Ochibobo/Arset/2021_data\\oco2_LtCO2_210313_B10206Ar_210922025555s.SUB.nc4\n",
      "C:/Users/Ochibobo/Arset/2021_data\\oco2_LtCO2_210314_B10206Ar_210922030425s.SUB.nc4\n",
      "C:/Users/Ochibobo/Arset/2021_data\\oco2_LtCO2_210315_B10206Ar_210922031315s.SUB.nc4\n",
      "C:/Users/Ochibobo/Arset/2021_data\\oco2_LtCO2_210316_B10206Ar_210922032723s.SUB.nc4\n",
      "C:/Users/Ochibobo/Arset/2021_data\\oco2_LtCO2_210317_B10206Ar_210922033531s.SUB.nc4\n",
      "C:/Users/Ochibobo/Arset/2021_data\\oco2_LtCO2_210318_B10206Ar_210922033907s.SUB.nc4\n",
      "C:/Users/Ochibobo/Arset/2021_data\\oco2_LtCO2_210319_B10206Ar_210922034833s.SUB.nc4\n",
      "C:/Users/Ochibobo/Arset/2021_data\\oco2_LtCO2_210320_B10206Ar_210922035658s.SUB.nc4\n",
      "C:/Users/Ochibobo/Arset/2021_data\\oco2_LtCO2_210321_B10206Ar_210922040155s.SUB.nc4\n",
      "C:/Users/Ochibobo/Arset/2021_data\\oco2_LtCO2_210322_B10206Ar_210922040522s.SUB.nc4\n",
      "C:/Users/Ochibobo/Arset/2021_data\\oco2_LtCO2_210323_B10206Ar_210922040933s.SUB.nc4\n",
      "C:/Users/Ochibobo/Arset/2021_data\\oco2_LtCO2_210324_B10206Ar_210922041835s.SUB.nc4\n",
      "C:/Users/Ochibobo/Arset/2021_data\\oco2_LtCO2_210325_B10206Ar_210922042332s.SUB.nc4\n",
      "C:/Users/Ochibobo/Arset/2021_data\\oco2_LtCO2_210326_B10206Ar_210922043030s.SUB.nc4\n",
      "C:/Users/Ochibobo/Arset/2021_data\\oco2_LtCO2_210327_B10206Ar_210922043710s.SUB.nc4\n",
      "C:/Users/Ochibobo/Arset/2021_data\\oco2_LtCO2_210328_B10206Ar_210922044620s.SUB.nc4\n",
      "C:/Users/Ochibobo/Arset/2021_data\\oco2_LtCO2_210329_B10206Ar_210922045035s.SUB.nc4\n",
      "C:/Users/Ochibobo/Arset/2021_data\\oco2_LtCO2_210330_B10206Ar_210922045505s.SUB.nc4\n",
      "C:/Users/Ochibobo/Arset/2021_data\\oco2_LtCO2_210331_B10206Ar_210922020132s.SUB.nc4\n",
      "C:/Users/Ochibobo/Arset/2021_data\\oco2_LtCO2_210401_B10206Ar_210922021009s.SUB.nc4\n",
      "C:/Users/Ochibobo/Arset/2021_data\\oco2_LtCO2_210402_B10206Ar_210922022026s.SUB.nc4\n",
      "C:/Users/Ochibobo/Arset/2021_data\\oco2_LtCO2_210403_B10206Ar_210922022701s.SUB.nc4\n",
      "C:/Users/Ochibobo/Arset/2021_data\\oco2_LtCO2_210404_B10206Ar_210922023459s.SUB.nc4\n",
      "C:/Users/Ochibobo/Arset/2021_data\\oco2_LtCO2_210405_B10206Ar_210922024415s.SUB.nc4\n",
      "C:/Users/Ochibobo/Arset/2021_data\\oco2_LtCO2_210406_B10206Ar_210922025401s.SUB.nc4\n",
      "C:/Users/Ochibobo/Arset/2021_data\\oco2_LtCO2_210407_B10206Ar_210922030328s.SUB.nc4\n",
      "C:/Users/Ochibobo/Arset/2021_data\\oco2_LtCO2_210408_B10206Ar_210922031315s.SUB.nc4\n",
      "C:/Users/Ochibobo/Arset/2021_data\\oco2_LtCO2_210409_B10206Ar_210922032254s.SUB.nc4\n",
      "C:/Users/Ochibobo/Arset/2021_data\\oco2_LtCO2_210410_B10206Ar_210922033249s.SUB.nc4\n",
      "C:/Users/Ochibobo/Arset/2021_data\\oco2_LtCO2_210411_B10206Ar_210922034004s.SUB.nc4\n",
      "C:/Users/Ochibobo/Arset/2021_data\\oco2_LtCO2_210412_B10206Ar_210922034359s.SUB.nc4\n",
      "C:/Users/Ochibobo/Arset/2021_data\\oco2_LtCO2_210413_B10206Ar_210922035240s.SUB.nc4\n",
      "C:/Users/Ochibobo/Arset/2021_data\\oco2_LtCO2_210414_B10206Ar_210922035746s.SUB.nc4\n",
      "C:/Users/Ochibobo/Arset/2021_data\\oco2_LtCO2_210415_B10206Ar_210922040932s.SUB.nc4\n",
      "C:/Users/Ochibobo/Arset/2021_data\\oco2_LtCO2_210416_B10206Ar_210922041357s.SUB.nc4\n",
      "C:/Users/Ochibobo/Arset/2021_data\\oco2_LtCO2_210417_B10206Ar_210922042216s.SUB.nc4\n",
      "C:/Users/Ochibobo/Arset/2021_data\\oco2_LtCO2_210418_B10206Ar_210922042754s.SUB.nc4\n",
      "C:/Users/Ochibobo/Arset/2021_data\\oco2_LtCO2_210419_B10206Ar_210922043452s.SUB.nc4\n",
      "C:/Users/Ochibobo/Arset/2021_data\\oco2_LtCO2_210420_B10206Ar_210922044125s.SUB.nc4\n",
      "C:/Users/Ochibobo/Arset/2021_data\\oco2_LtCO2_210421_B10206Ar_210922044209s.SUB.nc4\n",
      "C:/Users/Ochibobo/Arset/2021_data\\oco2_LtCO2_210422_B10206Ar_210922044709s.SUB.nc4\n",
      "C:/Users/Ochibobo/Arset/2021_data\\oco2_LtCO2_210423_B10206Ar_210922045110s.SUB.nc4\n",
      "C:/Users/Ochibobo/Arset/2021_data\\oco2_LtCO2_210424_B10206Ar_210922045538s.SUB.nc4\n",
      "C:/Users/Ochibobo/Arset/2021_data\\oco2_LtCO2_210425_B10206Ar_210922045935s.SUB.nc4\n",
      "C:/Users/Ochibobo/Arset/2021_data\\oco2_LtCO2_210426_B10206Ar_210922050031s.SUB.nc4\n",
      "C:/Users/Ochibobo/Arset/2021_data\\oco2_LtCO2_210427_B10206Ar_210922050354s.SUB.nc4\n",
      "C:/Users/Ochibobo/Arset/2021_data\\oco2_LtCO2_210428_B10206Ar_210922050514s.SUB.nc4\n",
      "C:/Users/Ochibobo/Arset/2021_data\\oco2_LtCO2_210429_B10206Ar_210922050857s.SUB.nc4\n",
      "C:/Users/Ochibobo/Arset/2021_data\\oco2_LtCO2_210430_B10206Ar_210922172731s.SUB.nc4\n",
      "C:/Users/Ochibobo/Arset/2021_data\\oco2_LtCO2_210501_B10206Ar_210922172732s.SUB.nc4\n",
      "C:/Users/Ochibobo/Arset/2021_data\\oco2_LtCO2_210502_B10206Ar_210922173133s.SUB.nc4\n",
      "C:/Users/Ochibobo/Arset/2021_data\\oco2_LtCO2_210503_B10206Ar_210922173503s.SUB.nc4\n",
      "C:/Users/Ochibobo/Arset/2021_data\\oco2_LtCO2_210504_B10206Ar_210922173916s.SUB.nc4\n",
      "C:/Users/Ochibobo/Arset/2021_data\\oco2_LtCO2_210505_B10206Ar_210922174418s.SUB.nc4\n",
      "C:/Users/Ochibobo/Arset/2021_data\\oco2_LtCO2_210506_B10206Ar_210922174814s.SUB.nc4\n",
      "C:/Users/Ochibobo/Arset/2021_data\\oco2_LtCO2_210507_B10206Ar_210922175231s.SUB.nc4\n",
      "C:/Users/Ochibobo/Arset/2021_data\\oco2_LtCO2_210508_B10206Ar_210922175735s.SUB.nc4\n",
      "C:/Users/Ochibobo/Arset/2021_data\\oco2_LtCO2_210509_B10206Ar_210922180202s.SUB.nc4\n",
      "C:/Users/Ochibobo/Arset/2021_data\\oco2_LtCO2_210510_B10206Ar_210922180556s.SUB.nc4\n",
      "C:/Users/Ochibobo/Arset/2021_data\\oco2_LtCO2_210511_B10206Ar_210922180954s.SUB.nc4\n",
      "C:/Users/Ochibobo/Arset/2021_data\\oco2_LtCO2_210512_B10206Ar_210922181425s.SUB.nc4\n",
      "C:/Users/Ochibobo/Arset/2021_data\\oco2_LtCO2_210513_B10206Ar_210922181824s.SUB.nc4\n",
      "C:/Users/Ochibobo/Arset/2021_data\\oco2_LtCO2_210514_B10206Ar_210922182215s.SUB.nc4\n",
      "C:/Users/Ochibobo/Arset/2021_data\\oco2_LtCO2_210515_B10206Ar_210922182731s.SUB.nc4\n",
      "C:/Users/Ochibobo/Arset/2021_data\\oco2_LtCO2_210516_B10206Ar_210922183225s.SUB.nc4\n",
      "C:/Users/Ochibobo/Arset/2021_data\\oco2_LtCO2_210517_B10206Ar_210922183647s.SUB.nc4\n",
      "C:/Users/Ochibobo/Arset/2021_data\\oco2_LtCO2_210518_B10206Ar_210922184052s.SUB.nc4\n",
      "C:/Users/Ochibobo/Arset/2021_data\\oco2_LtCO2_210519_B10206Ar_210922184538s.SUB.nc4\n",
      "C:/Users/Ochibobo/Arset/2021_data\\oco2_LtCO2_210520_B10206Ar_210922184949s.SUB.nc4\n",
      "C:/Users/Ochibobo/Arset/2021_data\\oco2_LtCO2_210521_B10206Ar_210922185316s.SUB.nc4\n",
      "C:/Users/Ochibobo/Arset/2021_data\\oco2_LtCO2_210522_B10206Ar_210922185700s.SUB.nc4\n",
      "C:/Users/Ochibobo/Arset/2021_data\\oco2_LtCO2_210523_B10206Ar_210922190055s.SUB.nc4\n",
      "C:/Users/Ochibobo/Arset/2021_data\\oco2_LtCO2_210524_B10206Ar_210922190423s.SUB.nc4\n",
      "C:/Users/Ochibobo/Arset/2021_data\\oco2_LtCO2_210525_B10206Ar_210922190810s.SUB.nc4\n",
      "C:/Users/Ochibobo/Arset/2021_data\\oco2_LtCO2_210526_B10206Ar_210922191250s.SUB.nc4\n",
      "C:/Users/Ochibobo/Arset/2021_data\\oco2_LtCO2_210527_B10206Ar_210922191710s.SUB.nc4\n",
      "C:/Users/Ochibobo/Arset/2021_data\\oco2_LtCO2_210528_B10206Ar_210922192118s.SUB.nc4\n",
      "C:/Users/Ochibobo/Arset/2021_data\\oco2_LtCO2_210529_B10206Ar_210922192619s.SUB.nc4\n",
      "C:/Users/Ochibobo/Arset/2021_data\\oco2_LtCO2_210530_B10206Ar_210922193131s.SUB.nc4\n",
      "C:/Users/Ochibobo/Arset/2021_data\\oco2_LtCO2_210531_B10206Ar_210922173149s.SUB.nc4\n",
      "C:/Users/Ochibobo/Arset/2021_data\\oco2_LtCO2_210601_B10206Ar_210922173553s.SUB.nc4\n",
      "C:/Users/Ochibobo/Arset/2021_data\\oco2_LtCO2_210602_B10206Ar_210922174007s.SUB.nc4\n",
      "C:/Users/Ochibobo/Arset/2021_data\\oco2_LtCO2_210603_B10206Ar_210922174454s.SUB.nc4\n",
      "C:/Users/Ochibobo/Arset/2021_data\\oco2_LtCO2_210604_B10206Ar_210922174845s.SUB.nc4\n",
      "C:/Users/Ochibobo/Arset/2021_data\\oco2_LtCO2_210605_B10206Ar_210922175430s.SUB.nc4\n",
      "C:/Users/Ochibobo/Arset/2021_data\\oco2_LtCO2_210606_B10206Ar_210922175918s.SUB.nc4\n",
      "C:/Users/Ochibobo/Arset/2021_data\\oco2_LtCO2_210607_B10206Ar_210922180346s.SUB.nc4\n",
      "C:/Users/Ochibobo/Arset/2021_data\\oco2_LtCO2_210608_B10206Ar_210922180737s.SUB.nc4\n",
      "C:/Users/Ochibobo/Arset/2021_data\\oco2_LtCO2_210609_B10206Ar_210922181139s.SUB.nc4\n",
      "C:/Users/Ochibobo/Arset/2021_data\\oco2_LtCO2_210610_B10206Ar_210922181550s.SUB.nc4\n",
      "C:/Users/Ochibobo/Arset/2021_data\\oco2_LtCO2_210611_B10206Ar_210922181956s.SUB.nc4\n",
      "C:/Users/Ochibobo/Arset/2021_data\\oco2_LtCO2_210612_B10206Ar_210922182350s.SUB.nc4\n",
      "C:/Users/Ochibobo/Arset/2021_data\\oco2_LtCO2_210613_B10206Ar_210922182839s.SUB.nc4\n",
      "C:/Users/Ochibobo/Arset/2021_data\\oco2_LtCO2_210614_B10206Ar_210922183249s.SUB.nc4\n",
      "C:/Users/Ochibobo/Arset/2021_data\\oco2_LtCO2_210615_B10206Ar_210922183656s.SUB.nc4\n",
      "C:/Users/Ochibobo/Arset/2021_data\\oco2_LtCO2_210616_B10206Ar_210922184115s.SUB.nc4\n",
      "C:/Users/Ochibobo/Arset/2021_data\\oco2_LtCO2_210617_B10206Ar_210922184542s.SUB.nc4\n",
      "C:/Users/Ochibobo/Arset/2021_data\\oco2_LtCO2_210618_B10206Ar_210922185001s.SUB.nc4\n",
      "C:/Users/Ochibobo/Arset/2021_data\\oco2_LtCO2_210619_B10206Ar_210922185352s.SUB.nc4\n",
      "C:/Users/Ochibobo/Arset/2021_data\\oco2_LtCO2_210620_B10206Ar_210922185911s.SUB.nc4\n",
      "C:/Users/Ochibobo/Arset/2021_data\\oco2_LtCO2_210621_B10206Ar_210922190341s.SUB.nc4\n",
      "C:/Users/Ochibobo/Arset/2021_data\\oco2_LtCO2_210622_B10206Ar_210922190805s.SUB.nc4\n",
      "C:/Users/Ochibobo/Arset/2021_data\\oco2_LtCO2_210623_B10206Ar_210922191228s.SUB.nc4\n",
      "C:/Users/Ochibobo/Arset/2021_data\\oco2_LtCO2_210624_B10206Ar_210922191632s.SUB.nc4\n",
      "C:/Users/Ochibobo/Arset/2021_data\\oco2_LtCO2_210625_B10206Ar_210922192041s.SUB.nc4\n",
      "C:/Users/Ochibobo/Arset/2021_data\\oco2_LtCO2_210626_B10206Ar_210922192419s.SUB.nc4\n",
      "C:/Users/Ochibobo/Arset/2021_data\\oco2_LtCO2_210627_B10206Ar_210922192902s.SUB.nc4\n",
      "C:/Users/Ochibobo/Arset/2021_data\\oco2_LtCO2_210628_B10206Ar_210922193317s.SUB.nc4\n",
      "C:/Users/Ochibobo/Arset/2021_data\\oco2_LtCO2_210629_B10206Ar_210922193544s.SUB.nc4\n",
      "C:/Users/Ochibobo/Arset/2021_data\\oco2_LtCO2_210630_B10206Ar_210922193738s.SUB.nc4\n",
      "C:/Users/Ochibobo/Arset/2021_data\\oco2_LtCO2_210701_B10206Ar_211104001412s.SUB.nc4\n",
      "C:/Users/Ochibobo/Arset/2021_data\\oco2_LtCO2_210702_B10206Ar_211104001415s.SUB.nc4\n",
      "C:/Users/Ochibobo/Arset/2021_data\\oco2_LtCO2_210703_B10206Ar_211104001900s.SUB.nc4\n",
      "C:/Users/Ochibobo/Arset/2021_data\\oco2_LtCO2_210704_B10206Ar_211104001926s.SUB.nc4\n",
      "C:/Users/Ochibobo/Arset/2021_data\\oco2_LtCO2_210705_B10206Ar_211104002554s.SUB.nc4\n",
      "C:/Users/Ochibobo/Arset/2021_data\\oco2_LtCO2_210706_B10206Ar_211104002615s.SUB.nc4\n",
      "C:/Users/Ochibobo/Arset/2021_data\\oco2_LtCO2_210707_B10206Ar_211104003024s.SUB.nc4\n",
      "C:/Users/Ochibobo/Arset/2021_data\\oco2_LtCO2_210708_B10206Ar_211104003216s.SUB.nc4\n",
      "C:/Users/Ochibobo/Arset/2021_data\\oco2_LtCO2_210709_B10206Ar_211104003545s.SUB.nc4\n",
      "C:/Users/Ochibobo/Arset/2021_data\\oco2_LtCO2_210710_B10206Ar_211104003700s.SUB.nc4\n",
      "C:/Users/Ochibobo/Arset/2021_data\\oco2_LtCO2_210711_B10206Ar_211104004004s.SUB.nc4\n",
      "C:/Users/Ochibobo/Arset/2021_data\\oco2_LtCO2_210712_B10206Ar_211104004229s.SUB.nc4\n",
      "C:/Users/Ochibobo/Arset/2021_data\\oco2_LtCO2_210713_B10206Ar_211104004516s.SUB.nc4\n",
      "C:/Users/Ochibobo/Arset/2021_data\\oco2_LtCO2_210714_B10206Ar_211104004754s.SUB.nc4\n",
      "C:/Users/Ochibobo/Arset/2021_data\\oco2_LtCO2_210715_B10206Ar_211104005016s.SUB.nc4\n",
      "C:/Users/Ochibobo/Arset/2021_data\\oco2_LtCO2_210716_B10206Ar_211104005229s.SUB.nc4\n",
      "C:/Users/Ochibobo/Arset/2021_data\\oco2_LtCO2_210717_B10206Ar_211104005438s.SUB.nc4\n",
      "C:/Users/Ochibobo/Arset/2021_data\\oco2_LtCO2_210718_B10206Ar_211104005612s.SUB.nc4\n",
      "C:/Users/Ochibobo/Arset/2021_data\\oco2_LtCO2_210719_B10206Ar_211104005923s.SUB.nc4\n",
      "C:/Users/Ochibobo/Arset/2021_data\\oco2_LtCO2_210721_B10206Ar_211104010314s.SUB.nc4\n",
      "C:/Users/Ochibobo/Arset/2021_data\\oco2_LtCO2_210723_B10206Ar_211104010752s.SUB.nc4\n",
      "C:/Users/Ochibobo/Arset/2021_data\\oco2_LtCO2_210725_B10206Ar_211104011208s.SUB.nc4\n",
      "C:/Users/Ochibobo/Arset/2021_data\\oco2_LtCO2_210726_B10206Ar_211104011358s.SUB.nc4\n",
      "C:/Users/Ochibobo/Arset/2021_data\\oco2_LtCO2_210727_B10206Ar_211104011737s.SUB.nc4\n",
      "C:/Users/Ochibobo/Arset/2021_data\\oco2_LtCO2_210728_B10206Ar_211104011811s.SUB.nc4\n",
      "C:/Users/Ochibobo/Arset/2021_data\\oco2_LtCO2_210729_B10206Ar_211104012142s.SUB.nc4\n",
      "C:/Users/Ochibobo/Arset/2021_data\\oco2_LtCO2_210730_B10206Ar_211104012319s.SUB.nc4\n",
      "C:/Users/Ochibobo/Arset/2021_data\\oco2_LtCO2_210731_B10206Ar_211104012533s.SUB.nc4\n",
      "C:/Users/Ochibobo/Arset/2021_data\\oco2_LtCO2_210801_B10206Ar_211111174750s.SUB.nc4\n",
      "C:/Users/Ochibobo/Arset/2021_data\\oco2_LtCO2_210802_B10206Ar_211111174750s.SUB.nc4\n",
      "C:/Users/Ochibobo/Arset/2021_data\\oco2_LtCO2_210803_B10206Ar_211112180325s.SUB.nc4\n",
      "C:/Users/Ochibobo/Arset/2021_data\\oco2_LtCO2_210804_B10206Ar_211111175400s.SUB.nc4\n",
      "C:/Users/Ochibobo/Arset/2021_data\\oco2_LtCO2_210805_B10206Ar_211111175426s.SUB.nc4\n",
      "C:/Users/Ochibobo/Arset/2021_data\\oco2_LtCO2_210806_B10206Ar_211111175904s.SUB.nc4\n",
      "C:/Users/Ochibobo/Arset/2021_data\\oco2_LtCO2_210807_B10206Ar_211111180030s.SUB.nc4\n",
      "C:/Users/Ochibobo/Arset/2021_data\\oco2_LtCO2_210808_B10206Ar_211111180344s.SUB.nc4\n",
      "C:/Users/Ochibobo/Arset/2021_data\\oco2_LtCO2_210809_B10206Ar_211111180601s.SUB.nc4\n",
      "C:/Users/Ochibobo/Arset/2021_data\\oco2_LtCO2_210810_B10206Ar_211130182719s.SUB.nc4\n",
      "C:/Users/Ochibobo/Arset/2021_data\\oco2_LtCO2_210811_B10206Ar_211111181115s.SUB.nc4\n",
      "C:/Users/Ochibobo/Arset/2021_data\\oco2_LtCO2_210812_B10206Ar_211111181420s.SUB.nc4\n",
      "C:/Users/Ochibobo/Arset/2021_data\\oco2_LtCO2_210813_B10206Ar_211111181643s.SUB.nc4\n",
      "C:/Users/Ochibobo/Arset/2021_data\\oco2_LtCO2_210814_B10206Ar_211130182724s.SUB.nc4\n",
      "C:/Users/Ochibobo/Arset/2021_data\\oco2_LtCO2_210815_B10206Ar_211112180330s.SUB.nc4\n",
      "C:/Users/Ochibobo/Arset/2021_data\\oco2_LtCO2_210816_B10206Ar_211111182142s.SUB.nc4\n",
      "C:/Users/Ochibobo/Arset/2021_data\\oco2_LtCO2_210817_B10206Ar_211111182447s.SUB.nc4\n",
      "C:/Users/Ochibobo/Arset/2021_data\\oco2_LtCO2_210818_B10206Ar_211111182640s.SUB.nc4\n",
      "C:/Users/Ochibobo/Arset/2021_data\\oco2_LtCO2_210819_B10206Ar_211111182926s.SUB.nc4\n",
      "C:/Users/Ochibobo/Arset/2021_data\\oco2_LtCO2_210820_B10206Ar_211111183210s.SUB.nc4\n",
      "C:/Users/Ochibobo/Arset/2021_data\\oco2_LtCO2_210821_B10206Ar_211111183359s.SUB.nc4\n",
      "C:/Users/Ochibobo/Arset/2021_data\\oco2_LtCO2_210822_B10206Ar_211112180759s.SUB.nc4\n",
      "C:/Users/Ochibobo/Arset/2021_data\\oco2_LtCO2_210823_B10206Ar_211112180912s.SUB.nc4\n",
      "C:/Users/Ochibobo/Arset/2021_data\\oco2_LtCO2_210824_B10206Ar_211111183717s.SUB.nc4\n",
      "C:/Users/Ochibobo/Arset/2021_data\\oco2_LtCO2_210825_B10206Ar_211111183821s.SUB.nc4\n",
      "C:/Users/Ochibobo/Arset/2021_data\\oco2_LtCO2_210826_B10206Ar_211111184217s.SUB.nc4\n",
      "C:/Users/Ochibobo/Arset/2021_data\\oco2_LtCO2_210827_B10206Ar_211111184334s.SUB.nc4\n",
      "C:/Users/Ochibobo/Arset/2021_data\\oco2_LtCO2_210828_B10206Ar_211111184737s.SUB.nc4\n",
      "C:/Users/Ochibobo/Arset/2021_data\\oco2_LtCO2_210829_B10206Ar_211111184740s.SUB.nc4\n",
      "C:/Users/Ochibobo/Arset/2021_data\\oco2_LtCO2_210830_B10206Ar_211111185253s.SUB.nc4\n",
      "C:/Users/Ochibobo/Arset/2021_data\\oco2_LtCO2_210831_B10206Ar_211111185306s.SUB.nc4\n",
      "C:/Users/Ochibobo/Arset/2021_data\\oco2_LtCO2_210901_B10206Ar_211117171711s.SUB.nc4\n",
      "C:/Users/Ochibobo/Arset/2021_data\\oco2_LtCO2_210902_B10206Ar_211117171711s.SUB.nc4\n",
      "C:/Users/Ochibobo/Arset/2021_data\\oco2_LtCO2_210903_B10206Ar_211117172316s.SUB.nc4\n",
      "C:/Users/Ochibobo/Arset/2021_data\\oco2_LtCO2_210904_B10206Ar_211117172358s.SUB.nc4\n",
      "C:/Users/Ochibobo/Arset/2021_data\\oco2_LtCO2_210905_B10206Ar_211117172835s.SUB.nc4\n",
      "C:/Users/Ochibobo/Arset/2021_data\\oco2_LtCO2_210906_B10206Ar_211117172854s.SUB.nc4\n",
      "C:/Users/Ochibobo/Arset/2021_data\\oco2_LtCO2_210907_B10206Ar_211117173407s.SUB.nc4\n",
      "C:/Users/Ochibobo/Arset/2021_data\\oco2_LtCO2_210908_B10206Ar_211117173503s.SUB.nc4\n",
      "C:/Users/Ochibobo/Arset/2021_data\\oco2_LtCO2_210909_B10206Ar_211117173918s.SUB.nc4\n",
      "C:/Users/Ochibobo/Arset/2021_data\\oco2_LtCO2_210910_B10206Ar_211117174049s.SUB.nc4\n",
      "C:/Users/Ochibobo/Arset/2021_data\\oco2_LtCO2_210911_B10206Ar_211117174511s.SUB.nc4\n",
      "C:/Users/Ochibobo/Arset/2021_data\\oco2_LtCO2_210912_B10206Ar_211117174623s.SUB.nc4\n",
      "C:/Users/Ochibobo/Arset/2021_data\\oco2_LtCO2_210915_B10206Ar_211117175013s.SUB.nc4\n",
      "C:/Users/Ochibobo/Arset/2021_data\\oco2_LtCO2_210916_B10206Ar_211117175019s.SUB.nc4\n",
      "C:/Users/Ochibobo/Arset/2021_data\\oco2_LtCO2_210917_B10206Ar_211117175244s.SUB.nc4\n",
      "C:/Users/Ochibobo/Arset/2021_data\\oco2_LtCO2_210918_B10206Ar_211117175723s.SUB.nc4\n",
      "C:/Users/Ochibobo/Arset/2021_data\\oco2_LtCO2_210919_B10206Ar_211117175827s.SUB.nc4\n",
      "C:/Users/Ochibobo/Arset/2021_data\\oco2_LtCO2_210920_B10206Ar_211117180300s.SUB.nc4\n",
      "C:/Users/Ochibobo/Arset/2021_data\\oco2_LtCO2_210921_B10206Ar_211117180454s.SUB.nc4\n",
      "C:/Users/Ochibobo/Arset/2021_data\\oco2_LtCO2_210922_B10206Ar_211117180936s.SUB.nc4\n",
      "C:/Users/Ochibobo/Arset/2021_data\\oco2_LtCO2_210923_B10206Ar_211117181101s.SUB.nc4\n",
      "C:/Users/Ochibobo/Arset/2021_data\\oco2_LtCO2_210924_B10206Ar_211117181540s.SUB.nc4\n",
      "C:/Users/Ochibobo/Arset/2021_data\\oco2_LtCO2_210925_B10206Ar_211117181817s.SUB.nc4\n",
      "C:/Users/Ochibobo/Arset/2021_data\\oco2_LtCO2_210926_B10206Ar_211117182046s.SUB.nc4\n",
      "C:/Users/Ochibobo/Arset/2021_data\\oco2_LtCO2_210927_B10206Ar_211117182328s.SUB.nc4\n",
      "C:/Users/Ochibobo/Arset/2021_data\\oco2_LtCO2_210928_B10206Ar_211117182702s.SUB.nc4\n",
      "C:/Users/Ochibobo/Arset/2021_data\\oco2_LtCO2_210929_B10206Ar_211117182952s.SUB.nc4\n",
      "C:/Users/Ochibobo/Arset/2021_data\\oco2_LtCO2_210930_B10206Ar_211117183237s.SUB.nc4\n",
      "C:/Users/Ochibobo/Arset/2021_data\\oco2_LtCO2_211001_B10206Ar_220103190435s.SUB.nc4\n",
      "C:/Users/Ochibobo/Arset/2021_data\\oco2_LtCO2_211002_B10206Ar_220103190439s.SUB.nc4\n",
      "C:/Users/Ochibobo/Arset/2021_data\\oco2_LtCO2_211003_B10206Ar_220103190921s.SUB.nc4\n",
      "C:/Users/Ochibobo/Arset/2021_data\\oco2_LtCO2_211004_B10206Ar_220103190923s.SUB.nc4\n",
      "C:/Users/Ochibobo/Arset/2021_data\\oco2_LtCO2_211005_B10206Ar_220103191548s.SUB.nc4\n",
      "C:/Users/Ochibobo/Arset/2021_data\\oco2_LtCO2_211006_B10206Ar_220103191555s.SUB.nc4\n",
      "C:/Users/Ochibobo/Arset/2021_data\\oco2_LtCO2_211007_B10206Ar_220103191949s.SUB.nc4\n",
      "C:/Users/Ochibobo/Arset/2021_data\\oco2_LtCO2_211008_B10206Ar_220103192032s.SUB.nc4\n",
      "C:/Users/Ochibobo/Arset/2021_data\\oco2_LtCO2_211009_B10206Ar_220103192607s.SUB.nc4\n",
      "C:/Users/Ochibobo/Arset/2021_data\\oco2_LtCO2_211010_B10206Ar_220103192632s.SUB.nc4\n",
      "C:/Users/Ochibobo/Arset/2021_data\\oco2_LtCO2_211011_B10206Ar_220103193106s.SUB.nc4\n",
      "C:/Users/Ochibobo/Arset/2021_data\\oco2_LtCO2_211012_B10206Ar_220103193153s.SUB.nc4\n",
      "C:/Users/Ochibobo/Arset/2021_data\\oco2_LtCO2_211013_B10206Ar_220103193708s.SUB.nc4\n",
      "C:/Users/Ochibobo/Arset/2021_data\\oco2_LtCO2_211014_B10206Ar_220103193724s.SUB.nc4\n",
      "C:/Users/Ochibobo/Arset/2021_data\\oco2_LtCO2_211015_B10206Ar_220103194200s.SUB.nc4\n",
      "C:/Users/Ochibobo/Arset/2021_data\\oco2_LtCO2_211016_B10206Ar_220103194336s.SUB.nc4\n",
      "C:/Users/Ochibobo/Arset/2021_data\\oco2_LtCO2_211017_B10206Ar_220103194754s.SUB.nc4\n",
      "C:/Users/Ochibobo/Arset/2021_data\\oco2_LtCO2_211018_B10206Ar_220103194917s.SUB.nc4\n",
      "C:/Users/Ochibobo/Arset/2021_data\\oco2_LtCO2_211019_B10206Ar_220103195247s.SUB.nc4\n",
      "C:/Users/Ochibobo/Arset/2021_data\\oco2_LtCO2_211020_B10206Ar_220103195430s.SUB.nc4\n",
      "C:/Users/Ochibobo/Arset/2021_data\\oco2_LtCO2_211021_B10206Ar_220103195706s.SUB.nc4\n",
      "C:/Users/Ochibobo/Arset/2021_data\\oco2_LtCO2_211022_B10206Ar_220103195931s.SUB.nc4\n",
      "C:/Users/Ochibobo/Arset/2021_data\\oco2_LtCO2_211023_B10206Ar_220103200211s.SUB.nc4\n",
      "C:/Users/Ochibobo/Arset/2021_data\\oco2_LtCO2_211024_B10206Ar_220103200505s.SUB.nc4\n",
      "C:/Users/Ochibobo/Arset/2021_data\\oco2_LtCO2_211025_B10206Ar_220103200705s.SUB.nc4\n",
      "C:/Users/Ochibobo/Arset/2021_data\\oco2_LtCO2_211026_B10206Ar_220103201057s.SUB.nc4\n",
      "C:/Users/Ochibobo/Arset/2021_data\\oco2_LtCO2_211027_B10206Ar_220103201247s.SUB.nc4\n",
      "C:/Users/Ochibobo/Arset/2021_data\\oco2_LtCO2_211028_B10206Ar_220103201540s.SUB.nc4\n",
      "C:/Users/Ochibobo/Arset/2021_data\\oco2_LtCO2_211029_B10206Ar_220103201741s.SUB.nc4\n",
      "C:/Users/Ochibobo/Arset/2021_data\\oco2_LtCO2_211030_B10206Ar_220103202104s.SUB.nc4\n",
      "C:/Users/Ochibobo/Arset/2021_data\\oco2_LtCO2_211031_B10206Ar_220103202233s.SUB.nc4\n",
      "C:/Users/Ochibobo/Arset/2021_data\\oco2_LtCO2_211101_B10206Ar_220212190846s.SUB.nc4\n",
      "C:/Users/Ochibobo/Arset/2021_data\\oco2_LtCO2_211102_B10206Ar_220212190846s.SUB.nc4\n",
      "C:/Users/Ochibobo/Arset/2021_data\\oco2_LtCO2_211103_B10206Ar_220212191330s.SUB.nc4\n",
      "C:/Users/Ochibobo/Arset/2021_data\\oco2_LtCO2_211104_B10206Ar_220212191343s.SUB.nc4\n",
      "C:/Users/Ochibobo/Arset/2021_data\\oco2_LtCO2_211105_B10206Ar_220212191923s.SUB.nc4\n",
      "C:/Users/Ochibobo/Arset/2021_data\\oco2_LtCO2_211106_B10206Ar_220212192011s.SUB.nc4\n",
      "C:/Users/Ochibobo/Arset/2021_data\\oco2_LtCO2_211107_B10206Ar_220212192421s.SUB.nc4\n",
      "C:/Users/Ochibobo/Arset/2021_data\\oco2_LtCO2_211108_B10206Ar_220212192518s.SUB.nc4\n",
      "C:/Users/Ochibobo/Arset/2021_data\\oco2_LtCO2_211109_B10206Ar_220212192818s.SUB.nc4\n",
      "C:/Users/Ochibobo/Arset/2021_data\\oco2_LtCO2_211110_B10206Ar_220212193110s.SUB.nc4\n",
      "C:/Users/Ochibobo/Arset/2021_data\\oco2_LtCO2_211111_B10206Ar_220212193354s.SUB.nc4\n",
      "C:/Users/Ochibobo/Arset/2021_data\\oco2_LtCO2_211112_B10206Ar_220212193622s.SUB.nc4\n",
      "C:/Users/Ochibobo/Arset/2021_data\\oco2_LtCO2_211113_B10206Ar_220212193834s.SUB.nc4\n",
      "C:/Users/Ochibobo/Arset/2021_data\\oco2_LtCO2_211114_B10206Ar_220212194219s.SUB.nc4\n",
      "C:/Users/Ochibobo/Arset/2021_data\\oco2_LtCO2_211115_B10206Ar_220212194301s.SUB.nc4\n",
      "C:/Users/Ochibobo/Arset/2021_data\\oco2_LtCO2_211116_B10206Ar_220212194648s.SUB.nc4\n",
      "C:/Users/Ochibobo/Arset/2021_data\\oco2_LtCO2_211117_B10206Ar_220212194806s.SUB.nc4\n",
      "C:/Users/Ochibobo/Arset/2021_data\\oco2_LtCO2_211118_B10206Ar_220212195210s.SUB.nc4\n",
      "C:/Users/Ochibobo/Arset/2021_data\\oco2_LtCO2_211119_B10206Ar_220212195304s.SUB.nc4\n",
      "C:/Users/Ochibobo/Arset/2021_data\\oco2_LtCO2_211120_B10206Ar_220212195735s.SUB.nc4\n",
      "C:/Users/Ochibobo/Arset/2021_data\\oco2_LtCO2_211121_B10206Ar_220212195817s.SUB.nc4\n",
      "C:/Users/Ochibobo/Arset/2021_data\\oco2_LtCO2_211122_B10206Ar_220212200207s.SUB.nc4\n",
      "C:/Users/Ochibobo/Arset/2021_data\\oco2_LtCO2_211123_B10206Ar_220212200207s.SUB.nc4\n",
      "C:/Users/Ochibobo/Arset/2021_data\\oco2_LtCO2_211124_B10206Ar_220212200722s.SUB.nc4\n",
      "C:/Users/Ochibobo/Arset/2021_data\\oco2_LtCO2_211125_B10206Ar_220212200733s.SUB.nc4\n",
      "C:/Users/Ochibobo/Arset/2021_data\\oco2_LtCO2_211126_B10206Ar_220212201216s.SUB.nc4\n",
      "C:/Users/Ochibobo/Arset/2021_data\\oco2_LtCO2_211127_B10206Ar_220212201221s.SUB.nc4\n",
      "C:/Users/Ochibobo/Arset/2021_data\\oco2_LtCO2_211128_B10206Ar_220212201641s.SUB.nc4\n",
      "C:/Users/Ochibobo/Arset/2021_data\\oco2_LtCO2_211129_B10206Ar_220212201651s.SUB.nc4\n",
      "C:/Users/Ochibobo/Arset/2021_data\\oco2_LtCO2_211130_B10206Ar_220212202113s.SUB.nc4\n",
      "C:/Users/Ochibobo/Arset/2021_data\\oco2_LtCO2_211201_B10206Ar_220228183136s.SUB.nc4\n",
      "C:/Users/Ochibobo/Arset/2021_data\\oco2_LtCO2_211202_B10206Ar_220228183141s.SUB.nc4\n",
      "C:/Users/Ochibobo/Arset/2021_data\\oco2_LtCO2_211203_B10206Ar_220228183600s.SUB.nc4\n",
      "C:/Users/Ochibobo/Arset/2021_data\\oco2_LtCO2_211204_B10206Ar_220228183610s.SUB.nc4\n",
      "C:/Users/Ochibobo/Arset/2021_data\\oco2_LtCO2_211205_B10206Ar_220228184104s.SUB.nc4\n",
      "C:/Users/Ochibobo/Arset/2021_data\\oco2_LtCO2_211206_B10206Ar_220228184152s.SUB.nc4\n",
      "C:/Users/Ochibobo/Arset/2021_data\\oco2_LtCO2_211207_B10206Ar_220228184455s.SUB.nc4\n",
      "C:/Users/Ochibobo/Arset/2021_data\\oco2_LtCO2_211208_B10206Ar_220228184608s.SUB.nc4\n",
      "C:/Users/Ochibobo/Arset/2021_data\\oco2_LtCO2_211209_B10206Ar_220228184912s.SUB.nc4\n",
      "C:/Users/Ochibobo/Arset/2021_data\\oco2_LtCO2_211210_B10206Ar_220228185017s.SUB.nc4\n",
      "C:/Users/Ochibobo/Arset/2021_data\\oco2_LtCO2_211211_B10206Ar_220228185226s.SUB.nc4\n",
      "C:/Users/Ochibobo/Arset/2021_data\\oco2_LtCO2_211212_B10206Ar_220228185536s.SUB.nc4\n",
      "C:/Users/Ochibobo/Arset/2021_data\\oco2_LtCO2_211213_B10206Ar_220228185719s.SUB.nc4\n",
      "C:/Users/Ochibobo/Arset/2021_data\\oco2_LtCO2_211214_B10206Ar_220228185937s.SUB.nc4\n",
      "C:/Users/Ochibobo/Arset/2021_data\\oco2_LtCO2_211215_B10206Ar_220228190133s.SUB.nc4\n",
      "C:/Users/Ochibobo/Arset/2021_data\\oco2_LtCO2_211216_B10206Ar_220228190439s.SUB.nc4\n",
      "C:/Users/Ochibobo/Arset/2021_data\\oco2_LtCO2_211217_B10206Ar_220228190519s.SUB.nc4\n",
      "C:/Users/Ochibobo/Arset/2021_data\\oco2_LtCO2_211218_B10206Ar_220228190853s.SUB.nc4\n",
      "C:/Users/Ochibobo/Arset/2021_data\\oco2_LtCO2_211219_B10206Ar_220228191020s.SUB.nc4\n",
      "C:/Users/Ochibobo/Arset/2021_data\\oco2_LtCO2_211220_B10206Ar_220228191351s.SUB.nc4\n",
      "C:/Users/Ochibobo/Arset/2021_data\\oco2_LtCO2_211221_B10206Ar_220228191419s.SUB.nc4\n",
      "C:/Users/Ochibobo/Arset/2021_data\\oco2_LtCO2_211222_B10206Ar_220228191848s.SUB.nc4\n",
      "C:/Users/Ochibobo/Arset/2021_data\\oco2_LtCO2_211223_B10206Ar_220228191906s.SUB.nc4\n",
      "C:/Users/Ochibobo/Arset/2021_data\\oco2_LtCO2_211224_B10206Ar_220228192307s.SUB.nc4\n",
      "C:/Users/Ochibobo/Arset/2021_data\\oco2_LtCO2_211225_B10206Ar_220228192342s.SUB.nc4\n",
      "C:/Users/Ochibobo/Arset/2021_data\\oco2_LtCO2_211226_B10206Ar_220228192808s.SUB.nc4\n",
      "C:/Users/Ochibobo/Arset/2021_data\\oco2_LtCO2_211227_B10206Ar_220228192832s.SUB.nc4\n",
      "C:/Users/Ochibobo/Arset/2021_data\\oco2_LtCO2_211228_B10206Ar_220228193222s.SUB.nc4\n",
      "C:/Users/Ochibobo/Arset/2021_data\\oco2_LtCO2_211229_B10206Ar_220228193327s.SUB.nc4\n",
      "C:/Users/Ochibobo/Arset/2021_data\\oco2_LtCO2_211230_B10206Ar_220228193705s.SUB.nc4\n",
      "C:/Users/Ochibobo/Arset/2021_data\\oco2_LtCO2_211231_B10206Ar_220228193805s.SUB.nc4\n",
      "C:/Users/Ochibobo/Arset/2021_data\\oco2_LtCO2_220101_B10206Ar_220413004740s.SUB.nc4\n"
     ]
    }
   ],
   "source": [
    "file_path_2021= []\n",
    "\n",
    "for root, dirs, files in os.walk('C:/Users/Ochibobo/Arset/2021_data'):\n",
    "    for filename in files:\n",
    "        print(os.path.join(root, filename))\n",
    "        \n",
    "        # Append the files into list\n",
    "        file_path_2021.append(os.path.join(root, filename))"
   ]
  },
  {
   "cell_type": "code",
   "execution_count": 3,
   "id": "0ef6dd0e",
   "metadata": {
    "scrolled": false
   },
   "outputs": [
    {
     "name": "stdout",
     "output_type": "stream",
     "text": [
      "Done\n"
     ]
    }
   ],
   "source": [
    "#open file in write mode\n",
    "with open(r'C:/Users/Ochibobo/Arset/2021_path_to_OCO-2.txt', 'w') as fp:\n",
    "    #write each item in a new line\n",
    "    for item in file_path_2021:\n",
    "        fp.write(f\"{item}\\n\")\n",
    "    print('Done')"
   ]
  },
  {
   "cell_type": "code",
   "execution_count": 4,
   "id": "846c95aa",
   "metadata": {},
   "outputs": [],
   "source": [
    "# path to netCdf Files\n",
    "with open('2021_path_to_OCO-2.txt') as f:\n",
    "    path_oco_2= f.readlines()"
   ]
  },
  {
   "cell_type": "markdown",
   "id": "ccc0a002",
   "metadata": {},
   "source": [
    "### Collected Paths of the files"
   ]
  },
  {
   "cell_type": "code",
   "execution_count": 5,
   "id": "5843e5f3",
   "metadata": {},
   "outputs": [
    {
     "data": {
      "text/plain": [
       "'C:/Users/Ochibobo/Arset/2021_data\\\\oco2_LtCO2_210102_B10206Ar_210922005052s.SUB.nc4'"
      ]
     },
     "execution_count": 5,
     "metadata": {},
     "output_type": "execute_result"
    }
   ],
   "source": [
    "path_oco_2[0].strip('\\n')"
   ]
  },
  {
   "cell_type": "code",
   "execution_count": 6,
   "id": "c5c5e077",
   "metadata": {},
   "outputs": [
    {
     "data": {
      "text/plain": [
       "'C:/Users/Ochibobo/Arset/2021_data\\\\oco2_LtCO2_210106_B10206Ar_210922011147s.SUB.nc4'"
      ]
     },
     "execution_count": 6,
     "metadata": {},
     "output_type": "execute_result"
    }
   ],
   "source": [
    "path_oco_2[4].strip('\\n')"
   ]
  },
  {
   "cell_type": "code",
   "execution_count": 7,
   "id": "ab19c123",
   "metadata": {},
   "outputs": [],
   "source": [
    "df_xco2_LITE= nc.Dataset(path_oco_2[3].strip('\\n'))"
   ]
  },
  {
   "cell_type": "code",
   "execution_count": 8,
   "id": "1509ee16",
   "metadata": {},
   "outputs": [
    {
     "data": {
      "text/plain": [
       "{'sounding_id_idx': <class 'netCDF4._netCDF4.Variable'>\n",
       " uint32 sounding_id_idx(sounding_id)\n",
       "     _FillValue: 4294967295\n",
       "     units: None\n",
       "     long_name: Original index values of sounding_id\n",
       "     missing_value: 4294967295\n",
       " unlimited dimensions: \n",
       " current shape = (166800,)\n",
       " filling on,\n",
       " 'longitude': <class 'netCDF4._netCDF4.Variable'>\n",
       " float32 longitude(sounding_id)\n",
       "     _FillValue: -999999.0\n",
       "     units: degrees_east\n",
       "     long_name: longitude\n",
       "     missing_value: -999999.0\n",
       "     comment: center longitude of the measurement\n",
       " unlimited dimensions: \n",
       " current shape = (166800,)\n",
       " filling on,\n",
       " 'latitude': <class 'netCDF4._netCDF4.Variable'>\n",
       " float32 latitude(sounding_id)\n",
       "     _FillValue: -999999.0\n",
       "     units: degrees_north\n",
       "     long_name: latitude\n",
       "     missing_value: -999999.0\n",
       "     comment: center latitude of the measurement\n",
       " unlimited dimensions: \n",
       " current shape = (166800,)\n",
       " filling on,\n",
       " 'time': <class 'netCDF4._netCDF4.Variable'>\n",
       " float64 time(sounding_id)\n",
       "     _FillValue: -999999.0\n",
       "     units: seconds since 1970-01-01 00:00:00\n",
       "     long_name: time\n",
       "     missing_value: -999999.0\n",
       " unlimited dimensions: \n",
       " current shape = (166800,)\n",
       " filling on,\n",
       " 'xco2': <class 'netCDF4._netCDF4.Variable'>\n",
       " float32 xco2(sounding_id)\n",
       "     _FillValue: -999999.0\n",
       "     units: ppm\n",
       "     long_name: XCO2\n",
       "     missing_value: -999999.0\n",
       "     comment: Column-averaged dry-air mole fraction of CO2 (includes bias correction)\n",
       "     coordinates: longitude latitude\n",
       " unlimited dimensions: \n",
       " current shape = (166800,)\n",
       " filling on,\n",
       " 'xco2_quality_flag': <class 'netCDF4._netCDF4.Variable'>\n",
       " int8 xco2_quality_flag(sounding_id)\n",
       "     _FillValue: 127\n",
       "     units: none\n",
       "     long_name: XCO2_Quality_Flag\n",
       "     missing_value: 127\n",
       "     comment: 0=Good, 1=Bad\n",
       "     coordinates: longitude latitude\n",
       " unlimited dimensions: \n",
       " current shape = (166800,)\n",
       " filling on,\n",
       " 'sounding_id': <class 'netCDF4._netCDF4.Variable'>\n",
       " uint64 sounding_id(sounding_id)\n",
       "     _FillValue: 0\n",
       "     units: YYYYMMDDhhmmssmf\n",
       "     long_name: OCO2 Sounding ID\n",
       "     missing_value: 0\n",
       "     comment: from scan time in UTC\n",
       " unlimited dimensions: \n",
       " current shape = (166800,)\n",
       " filling on}"
      ]
     },
     "execution_count": 8,
     "metadata": {},
     "output_type": "execute_result"
    }
   ],
   "source": [
    "df_xco2_LITE.variables"
   ]
  },
  {
   "cell_type": "markdown",
   "id": "984305bd",
   "metadata": {},
   "source": [
    "### EXAMPLE\n",
    "- READING netCDF file \n",
    "- LISTING the variables inside the file"
   ]
  },
  {
   "cell_type": "markdown",
   "id": "240181f5",
   "metadata": {},
   "source": [
    "### OPEN files of netCDF format"
   ]
  },
  {
   "cell_type": "code",
   "execution_count": 9,
   "id": "602d0a19",
   "metadata": {},
   "outputs": [],
   "source": [
    "df_xco2= netCDF.Dataset(path_oco_2[0].strip('\\n'))"
   ]
  },
  {
   "cell_type": "code",
   "execution_count": 10,
   "id": "21cdcf4e",
   "metadata": {},
   "outputs": [
    {
     "data": {
      "text/plain": [
       "'OCO-2'"
      ]
     },
     "execution_count": 10,
     "metadata": {},
     "output_type": "execute_result"
    }
   ],
   "source": [
    "df_xco2.Sensor"
   ]
  },
  {
   "cell_type": "markdown",
   "id": "3d1b52d3",
   "metadata": {},
   "source": [
    "### Xco2"
   ]
  },
  {
   "cell_type": "code",
   "execution_count": 11,
   "id": "00a84f9b",
   "metadata": {},
   "outputs": [
    {
     "data": {
      "text/plain": [
       "(163671,)"
      ]
     },
     "execution_count": 11,
     "metadata": {},
     "output_type": "execute_result"
    }
   ],
   "source": [
    "df_xco2.variables['xco2'].shape"
   ]
  },
  {
   "cell_type": "markdown",
   "id": "c480c460",
   "metadata": {},
   "source": [
    "## Xco2 Quality_flag"
   ]
  },
  {
   "cell_type": "code",
   "execution_count": 12,
   "id": "e45f2b75",
   "metadata": {},
   "outputs": [
    {
     "data": {
      "text/plain": [
       "masked_array(data=[1, 1, 1, ..., 1, 1, 1],\n",
       "             mask=False,\n",
       "       fill_value=999999,\n",
       "            dtype=int8)"
      ]
     },
     "execution_count": 12,
     "metadata": {},
     "output_type": "execute_result"
    }
   ],
   "source": [
    "df_xco2.variables['xco2_quality_flag'][:]"
   ]
  },
  {
   "cell_type": "markdown",
   "id": "8672d7a2",
   "metadata": {},
   "source": [
    "## Sounding_ID"
   ]
  },
  {
   "cell_type": "code",
   "execution_count": 13,
   "id": "e3a9937f",
   "metadata": {},
   "outputs": [
    {
     "data": {
      "text/plain": [
       "masked_array(data=2021010200491377,\n",
       "             mask=False,\n",
       "       fill_value=999999,\n",
       "            dtype=uint64)"
      ]
     },
     "execution_count": 13,
     "metadata": {},
     "output_type": "execute_result"
    }
   ],
   "source": [
    "df_xco2.variables['sounding_id'][0]"
   ]
  },
  {
   "cell_type": "markdown",
   "id": "07e9205f",
   "metadata": {},
   "source": [
    "## Date"
   ]
  },
  {
   "cell_type": "code",
   "execution_count": 24,
   "id": "1a986a0c",
   "metadata": {},
   "outputs": [],
   "source": [
    "# df_xco2.variables['date'].shape"
   ]
  },
  {
   "cell_type": "code",
   "execution_count": 25,
   "id": "dc08d512",
   "metadata": {},
   "outputs": [],
   "source": [
    "# df_xco2.variables['date'][9]"
   ]
  },
  {
   "cell_type": "code",
   "execution_count": 26,
   "id": "d96d35ee",
   "metadata": {},
   "outputs": [],
   "source": [
    "# df_date= pd.DataFrame()"
   ]
  },
  {
   "cell_type": "markdown",
   "id": "5109c3ab",
   "metadata": {},
   "source": [
    "## Time"
   ]
  },
  {
   "cell_type": "code",
   "execution_count": 16,
   "id": "2901e4d6",
   "metadata": {},
   "outputs": [
    {
     "data": {
      "text/plain": [
       "(163671,)"
      ]
     },
     "execution_count": 16,
     "metadata": {},
     "output_type": "execute_result"
    }
   ],
   "source": [
    "df_xco2.variables['time'].shape"
   ]
  },
  {
   "cell_type": "code",
   "execution_count": 19,
   "id": "d7b117c1",
   "metadata": {},
   "outputs": [
    {
     "data": {
      "text/plain": [
       "masked_array(data=[1.60954855e+09, 1.60954857e+09, 1.60954857e+09,\n",
       "                   1.60954858e+09],\n",
       "             mask=False,\n",
       "       fill_value=1e+20)"
      ]
     },
     "execution_count": 19,
     "metadata": {},
     "output_type": "execute_result"
    }
   ],
   "source": [
    "df_xco2.variables['time'][0:4]"
   ]
  },
  {
   "cell_type": "markdown",
   "id": "6a6f9041",
   "metadata": {},
   "source": [
    "## Xco2 Uncertainty"
   ]
  },
  {
   "cell_type": "code",
   "execution_count": 29,
   "id": "bef9b0f5",
   "metadata": {},
   "outputs": [],
   "source": [
    "# df_xco2.variables['xco2_uncertainty'][0]*1000"
   ]
  },
  {
   "cell_type": "code",
   "execution_count": 30,
   "id": "49f21387",
   "metadata": {},
   "outputs": [
    {
     "data": {
      "text/plain": [
       "masked_array(data=[409.1622 , 410.36414, 409.7879 , ..., 410.6221 ,\n",
       "                   407.17392, 405.27304],\n",
       "             mask=False,\n",
       "       fill_value=1e+20,\n",
       "            dtype=float32)"
      ]
     },
     "execution_count": 30,
     "metadata": {},
     "output_type": "execute_result"
    }
   ],
   "source": [
    "df_xco2.variables['xco2'][:]"
   ]
  },
  {
   "cell_type": "markdown",
   "id": "0d74dbcb",
   "metadata": {},
   "source": [
    "## Footprints"
   ]
  },
  {
   "cell_type": "code",
   "execution_count": 33,
   "id": "969cedc1",
   "metadata": {},
   "outputs": [],
   "source": [
    "# df_xco2.variables['bands'][:]"
   ]
  },
  {
   "cell_type": "markdown",
   "id": "652709ee",
   "metadata": {},
   "source": [
    "## Function to CONVERT 'sounding_id' to DateTime format\n",
    "### Date TIme format Changing"
   ]
  },
  {
   "cell_type": "code",
   "execution_count": 35,
   "id": "d5bb7b08",
   "metadata": {},
   "outputs": [],
   "source": [
    "# DATE time function\n",
    "def conv_date(d):\n",
    "    return datetime.strptime(str(d), '%Y%m%d%H%M%S%f')"
   ]
  },
  {
   "cell_type": "markdown",
   "id": "02934a26",
   "metadata": {},
   "source": [
    "## CONVERSION of NETCDF\n",
    "- Saving the file as CSV in the same directory"
   ]
  },
  {
   "cell_type": "code",
   "execution_count": 37,
   "id": "7d4542e7",
   "metadata": {},
   "outputs": [],
   "source": [
    "# FUNCTION to convert data\n",
    "\n",
    "def convHdf(data, n=0):\n",
    "\n",
    "    #path= '../hdf_format/Los_angeles_GROUPED/'\n",
    "    #data_hf= h5.File(path+ data,'r')\n",
    " \n",
    "\n",
    "    # get the HDF data and convert to CSV\n",
    "    df_xco2= pd.DataFrame()\n",
    "\n",
    "    df_xco2['Xco2']= data.variables['xco2'][:]\n",
    "    df_xco2['Latitude']= data.variables['latitude'][:]\n",
    "    df_xco2['Longitude']= data.variables['longitude'][:] \n",
    "    df_xco2['quality_flag']= data.variables['xco2_quality_flag'][:] \n",
    "    \n",
    "    df_xco2['DateTime']= data.variables['sounding_id'][:]\n",
    "    #Convert soundingID to datetime format\n",
    "    df_xco2['DateTime']= df_xco2['DateTime'].apply(conv_date)\n",
    "    df_xco2['DateTime']= pd.to_datetime(df_xco2['DateTime'])\n",
    "    \n",
    "    # YEAR and month column\n",
    "    df_xco2['Year']= df_xco2['DateTime'].dt.year\n",
    "    df_xco2['Month']= df_xco2['DateTime'].dt.month\n",
    "    df_xco2['Day']= df_xco2['DateTime'].dt.day\n",
    "    \n",
    "    date= str(data.variables['sounding_id'][0])                                   \n",
    "    # create a CSV\n",
    "    df_xco2.to_csv(data.Sensor+'_xco2_'+ date+'_.csv', index= False)"
   ]
  },
  {
   "cell_type": "markdown",
   "id": "666940f1",
   "metadata": {},
   "source": [
    "### READING files from the PATH list"
   ]
  },
  {
   "cell_type": "code",
   "execution_count": 39,
   "id": "34f2fa06",
   "metadata": {},
   "outputs": [
    {
     "data": {
      "text/plain": [
       "354"
      ]
     },
     "execution_count": 39,
     "metadata": {},
     "output_type": "execute_result"
    }
   ],
   "source": [
    "len(path_oco_2)"
   ]
  },
  {
   "cell_type": "code",
   "execution_count": 40,
   "id": "08822ab2",
   "metadata": {},
   "outputs": [
    {
     "data": {
      "text/plain": [
       "['C:/Users/Ochibobo/Arset/2021_data\\\\oco2_LtCO2_210102_B10206Ar_210922005052s.SUB.nc4\\n',\n",
       " 'C:/Users/Ochibobo/Arset/2021_data\\\\oco2_LtCO2_210103_B10206Ar_210922005524s.SUB.nc4\\n',\n",
       " 'C:/Users/Ochibobo/Arset/2021_data\\\\oco2_LtCO2_210104_B10206Ar_210922005930s.SUB.nc4\\n',\n",
       " 'C:/Users/Ochibobo/Arset/2021_data\\\\oco2_LtCO2_210105_B10206Ar_210922010440s.SUB.nc4\\n',\n",
       " 'C:/Users/Ochibobo/Arset/2021_data\\\\oco2_LtCO2_210106_B10206Ar_210922011147s.SUB.nc4\\n',\n",
       " 'C:/Users/Ochibobo/Arset/2021_data\\\\oco2_LtCO2_210107_B10206Ar_210922011944s.SUB.nc4\\n',\n",
       " 'C:/Users/Ochibobo/Arset/2021_data\\\\oco2_LtCO2_210108_B10206Ar_210922012632s.SUB.nc4\\n',\n",
       " 'C:/Users/Ochibobo/Arset/2021_data\\\\oco2_LtCO2_210109_B10206Ar_210922013418s.SUB.nc4\\n',\n",
       " 'C:/Users/Ochibobo/Arset/2021_data\\\\oco2_LtCO2_210110_B10206Ar_210922014053s.SUB.nc4\\n',\n",
       " 'C:/Users/Ochibobo/Arset/2021_data\\\\oco2_LtCO2_210111_B10206Ar_210922014946s.SUB.nc4\\n',\n",
       " 'C:/Users/Ochibobo/Arset/2021_data\\\\oco2_LtCO2_210112_B10206Ar_210922015621s.SUB.nc4\\n',\n",
       " 'C:/Users/Ochibobo/Arset/2021_data\\\\oco2_LtCO2_210113_B10206Ar_210922020458s.SUB.nc4\\n',\n",
       " 'C:/Users/Ochibobo/Arset/2021_data\\\\oco2_LtCO2_210114_B10206Ar_210922021421s.SUB.nc4\\n',\n",
       " 'C:/Users/Ochibobo/Arset/2021_data\\\\oco2_LtCO2_210115_B10206Ar_210922023020s.SUB.nc4\\n',\n",
       " 'C:/Users/Ochibobo/Arset/2021_data\\\\oco2_LtCO2_210116_B10206Ar_210922023857s.SUB.nc4\\n',\n",
       " 'C:/Users/Ochibobo/Arset/2021_data\\\\oco2_LtCO2_210117_B10206Ar_210922024358s.SUB.nc4\\n',\n",
       " 'C:/Users/Ochibobo/Arset/2021_data\\\\oco2_LtCO2_210118_B10206Ar_210922025831s.SUB.nc4\\n',\n",
       " 'C:/Users/Ochibobo/Arset/2021_data\\\\oco2_LtCO2_210119_B10206Ar_210922030740s.SUB.nc4\\n',\n",
       " 'C:/Users/Ochibobo/Arset/2021_data\\\\oco2_LtCO2_210120_B10206Ar_210922031748s.SUB.nc4\\n',\n",
       " 'C:/Users/Ochibobo/Arset/2021_data\\\\oco2_LtCO2_210121_B10206Ar_210922032317s.SUB.nc4\\n',\n",
       " 'C:/Users/Ochibobo/Arset/2021_data\\\\oco2_LtCO2_210122_B10206Ar_210922033124s.SUB.nc4\\n',\n",
       " 'C:/Users/Ochibobo/Arset/2021_data\\\\oco2_LtCO2_210123_B10206Ar_210922034322s.SUB.nc4\\n',\n",
       " 'C:/Users/Ochibobo/Arset/2021_data\\\\oco2_LtCO2_210124_B10206Ar_210922034756s.SUB.nc4\\n',\n",
       " 'C:/Users/Ochibobo/Arset/2021_data\\\\oco2_LtCO2_210125_B10206Ar_210922035251s.SUB.nc4\\n',\n",
       " 'C:/Users/Ochibobo/Arset/2021_data\\\\oco2_LtCO2_210126_B10206Ar_210922040054s.SUB.nc4\\n',\n",
       " 'C:/Users/Ochibobo/Arset/2021_data\\\\oco2_LtCO2_210127_B10206Ar_210922040505s.SUB.nc4\\n',\n",
       " 'C:/Users/Ochibobo/Arset/2021_data\\\\oco2_LtCO2_210128_B10206Ar_210922041352s.SUB.nc4\\n',\n",
       " 'C:/Users/Ochibobo/Arset/2021_data\\\\oco2_LtCO2_210129_B10206Ar_210922041946s.SUB.nc4\\n',\n",
       " 'C:/Users/Ochibobo/Arset/2021_data\\\\oco2_LtCO2_210130_B10206Ar_210922042619s.SUB.nc4\\n',\n",
       " 'C:/Users/Ochibobo/Arset/2021_data\\\\oco2_LtCO2_210131_B10206Ar_210922043152s.SUB.nc4\\n',\n",
       " 'C:/Users/Ochibobo/Arset/2021_data\\\\oco2_LtCO2_210201_B10206Ar_210922043933s.SUB.nc4\\n',\n",
       " 'C:/Users/Ochibobo/Arset/2021_data\\\\oco2_LtCO2_210208_B10206Ar_210916175413s.SUB.nc4\\n',\n",
       " 'C:/Users/Ochibobo/Arset/2021_data\\\\oco2_LtCO2_210209_B10206Ar_210916175413s.SUB.nc4\\n',\n",
       " 'C:/Users/Ochibobo/Arset/2021_data\\\\oco2_LtCO2_210210_B10206Ar_210916175848s.SUB.nc4\\n',\n",
       " 'C:/Users/Ochibobo/Arset/2021_data\\\\oco2_LtCO2_210211_B10206Ar_210916175932s.SUB.nc4\\n',\n",
       " 'C:/Users/Ochibobo/Arset/2021_data\\\\oco2_LtCO2_210212_B10206Ar_210916180524s.SUB.nc4\\n',\n",
       " 'C:/Users/Ochibobo/Arset/2021_data\\\\oco2_LtCO2_210213_B10206Ar_210916180651s.SUB.nc4\\n',\n",
       " 'C:/Users/Ochibobo/Arset/2021_data\\\\oco2_LtCO2_210214_B10206Ar_210916181045s.SUB.nc4\\n',\n",
       " 'C:/Users/Ochibobo/Arset/2021_data\\\\oco2_LtCO2_210215_B10206Ar_210916181220s.SUB.nc4\\n',\n",
       " 'C:/Users/Ochibobo/Arset/2021_data\\\\oco2_LtCO2_210216_B10206Ar_210916181644s.SUB.nc4\\n',\n",
       " 'C:/Users/Ochibobo/Arset/2021_data\\\\oco2_LtCO2_210217_B10206Ar_210916181810s.SUB.nc4\\n',\n",
       " 'C:/Users/Ochibobo/Arset/2021_data\\\\oco2_LtCO2_210218_B10206Ar_210916182146s.SUB.nc4\\n',\n",
       " 'C:/Users/Ochibobo/Arset/2021_data\\\\oco2_LtCO2_210219_B10206Ar_210916182349s.SUB.nc4\\n',\n",
       " 'C:/Users/Ochibobo/Arset/2021_data\\\\oco2_LtCO2_210220_B10206Ar_210916182624s.SUB.nc4\\n',\n",
       " 'C:/Users/Ochibobo/Arset/2021_data\\\\oco2_LtCO2_210221_B10206Ar_210916182839s.SUB.nc4\\n',\n",
       " 'C:/Users/Ochibobo/Arset/2021_data\\\\oco2_LtCO2_210222_B10206Ar_210916183043s.SUB.nc4\\n',\n",
       " 'C:/Users/Ochibobo/Arset/2021_data\\\\oco2_LtCO2_210223_B10206Ar_210916183405s.SUB.nc4\\n',\n",
       " 'C:/Users/Ochibobo/Arset/2021_data\\\\oco2_LtCO2_210224_B10206Ar_210916183722s.SUB.nc4\\n',\n",
       " 'C:/Users/Ochibobo/Arset/2021_data\\\\oco2_LtCO2_210225_B10206Ar_210916183841s.SUB.nc4\\n',\n",
       " 'C:/Users/Ochibobo/Arset/2021_data\\\\oco2_LtCO2_210226_B10206Ar_210916184150s.SUB.nc4\\n',\n",
       " 'C:/Users/Ochibobo/Arset/2021_data\\\\oco2_LtCO2_210227_B10206Ar_210916184404s.SUB.nc4\\n',\n",
       " 'C:/Users/Ochibobo/Arset/2021_data\\\\oco2_LtCO2_210228_B10206Ar_210922010612s.SUB.nc4\\n',\n",
       " 'C:/Users/Ochibobo/Arset/2021_data\\\\oco2_LtCO2_210301_B10206Ar_210922011451s.SUB.nc4\\n',\n",
       " 'C:/Users/Ochibobo/Arset/2021_data\\\\oco2_LtCO2_210302_B10206Ar_210922012220s.SUB.nc4\\n',\n",
       " 'C:/Users/Ochibobo/Arset/2021_data\\\\oco2_LtCO2_210303_B10206Ar_210922012913s.SUB.nc4\\n',\n",
       " 'C:/Users/Ochibobo/Arset/2021_data\\\\oco2_LtCO2_210304_B10206Ar_210922013626s.SUB.nc4\\n',\n",
       " 'C:/Users/Ochibobo/Arset/2021_data\\\\oco2_LtCO2_210305_B10206Ar_210922014503s.SUB.nc4\\n',\n",
       " 'C:/Users/Ochibobo/Arset/2021_data\\\\oco2_LtCO2_210306_B10206Ar_210922015221s.SUB.nc4\\n',\n",
       " 'C:/Users/Ochibobo/Arset/2021_data\\\\oco2_LtCO2_210307_B10206Ar_210922015914s.SUB.nc4\\n',\n",
       " 'C:/Users/Ochibobo/Arset/2021_data\\\\oco2_LtCO2_210308_B10206Ar_210922020835s.SUB.nc4\\n',\n",
       " 'C:/Users/Ochibobo/Arset/2021_data\\\\oco2_LtCO2_210309_B10206Ar_210922021757s.SUB.nc4\\n',\n",
       " 'C:/Users/Ochibobo/Arset/2021_data\\\\oco2_LtCO2_210310_B10206Ar_210922022555s.SUB.nc4\\n',\n",
       " 'C:/Users/Ochibobo/Arset/2021_data\\\\oco2_LtCO2_210311_B10206Ar_210922023447s.SUB.nc4\\n',\n",
       " 'C:/Users/Ochibobo/Arset/2021_data\\\\oco2_LtCO2_210312_B10206Ar_210922024940s.SUB.nc4\\n',\n",
       " 'C:/Users/Ochibobo/Arset/2021_data\\\\oco2_LtCO2_210313_B10206Ar_210922025555s.SUB.nc4\\n',\n",
       " 'C:/Users/Ochibobo/Arset/2021_data\\\\oco2_LtCO2_210314_B10206Ar_210922030425s.SUB.nc4\\n',\n",
       " 'C:/Users/Ochibobo/Arset/2021_data\\\\oco2_LtCO2_210315_B10206Ar_210922031315s.SUB.nc4\\n',\n",
       " 'C:/Users/Ochibobo/Arset/2021_data\\\\oco2_LtCO2_210316_B10206Ar_210922032723s.SUB.nc4\\n',\n",
       " 'C:/Users/Ochibobo/Arset/2021_data\\\\oco2_LtCO2_210317_B10206Ar_210922033531s.SUB.nc4\\n',\n",
       " 'C:/Users/Ochibobo/Arset/2021_data\\\\oco2_LtCO2_210318_B10206Ar_210922033907s.SUB.nc4\\n',\n",
       " 'C:/Users/Ochibobo/Arset/2021_data\\\\oco2_LtCO2_210319_B10206Ar_210922034833s.SUB.nc4\\n',\n",
       " 'C:/Users/Ochibobo/Arset/2021_data\\\\oco2_LtCO2_210320_B10206Ar_210922035658s.SUB.nc4\\n',\n",
       " 'C:/Users/Ochibobo/Arset/2021_data\\\\oco2_LtCO2_210321_B10206Ar_210922040155s.SUB.nc4\\n',\n",
       " 'C:/Users/Ochibobo/Arset/2021_data\\\\oco2_LtCO2_210322_B10206Ar_210922040522s.SUB.nc4\\n',\n",
       " 'C:/Users/Ochibobo/Arset/2021_data\\\\oco2_LtCO2_210323_B10206Ar_210922040933s.SUB.nc4\\n',\n",
       " 'C:/Users/Ochibobo/Arset/2021_data\\\\oco2_LtCO2_210324_B10206Ar_210922041835s.SUB.nc4\\n',\n",
       " 'C:/Users/Ochibobo/Arset/2021_data\\\\oco2_LtCO2_210325_B10206Ar_210922042332s.SUB.nc4\\n',\n",
       " 'C:/Users/Ochibobo/Arset/2021_data\\\\oco2_LtCO2_210326_B10206Ar_210922043030s.SUB.nc4\\n',\n",
       " 'C:/Users/Ochibobo/Arset/2021_data\\\\oco2_LtCO2_210327_B10206Ar_210922043710s.SUB.nc4\\n',\n",
       " 'C:/Users/Ochibobo/Arset/2021_data\\\\oco2_LtCO2_210328_B10206Ar_210922044620s.SUB.nc4\\n',\n",
       " 'C:/Users/Ochibobo/Arset/2021_data\\\\oco2_LtCO2_210329_B10206Ar_210922045035s.SUB.nc4\\n',\n",
       " 'C:/Users/Ochibobo/Arset/2021_data\\\\oco2_LtCO2_210330_B10206Ar_210922045505s.SUB.nc4\\n',\n",
       " 'C:/Users/Ochibobo/Arset/2021_data\\\\oco2_LtCO2_210331_B10206Ar_210922020132s.SUB.nc4\\n',\n",
       " 'C:/Users/Ochibobo/Arset/2021_data\\\\oco2_LtCO2_210401_B10206Ar_210922021009s.SUB.nc4\\n',\n",
       " 'C:/Users/Ochibobo/Arset/2021_data\\\\oco2_LtCO2_210402_B10206Ar_210922022026s.SUB.nc4\\n',\n",
       " 'C:/Users/Ochibobo/Arset/2021_data\\\\oco2_LtCO2_210403_B10206Ar_210922022701s.SUB.nc4\\n',\n",
       " 'C:/Users/Ochibobo/Arset/2021_data\\\\oco2_LtCO2_210404_B10206Ar_210922023459s.SUB.nc4\\n',\n",
       " 'C:/Users/Ochibobo/Arset/2021_data\\\\oco2_LtCO2_210405_B10206Ar_210922024415s.SUB.nc4\\n',\n",
       " 'C:/Users/Ochibobo/Arset/2021_data\\\\oco2_LtCO2_210406_B10206Ar_210922025401s.SUB.nc4\\n',\n",
       " 'C:/Users/Ochibobo/Arset/2021_data\\\\oco2_LtCO2_210407_B10206Ar_210922030328s.SUB.nc4\\n',\n",
       " 'C:/Users/Ochibobo/Arset/2021_data\\\\oco2_LtCO2_210408_B10206Ar_210922031315s.SUB.nc4\\n',\n",
       " 'C:/Users/Ochibobo/Arset/2021_data\\\\oco2_LtCO2_210409_B10206Ar_210922032254s.SUB.nc4\\n',\n",
       " 'C:/Users/Ochibobo/Arset/2021_data\\\\oco2_LtCO2_210410_B10206Ar_210922033249s.SUB.nc4\\n',\n",
       " 'C:/Users/Ochibobo/Arset/2021_data\\\\oco2_LtCO2_210411_B10206Ar_210922034004s.SUB.nc4\\n',\n",
       " 'C:/Users/Ochibobo/Arset/2021_data\\\\oco2_LtCO2_210412_B10206Ar_210922034359s.SUB.nc4\\n',\n",
       " 'C:/Users/Ochibobo/Arset/2021_data\\\\oco2_LtCO2_210413_B10206Ar_210922035240s.SUB.nc4\\n',\n",
       " 'C:/Users/Ochibobo/Arset/2021_data\\\\oco2_LtCO2_210414_B10206Ar_210922035746s.SUB.nc4\\n',\n",
       " 'C:/Users/Ochibobo/Arset/2021_data\\\\oco2_LtCO2_210415_B10206Ar_210922040932s.SUB.nc4\\n',\n",
       " 'C:/Users/Ochibobo/Arset/2021_data\\\\oco2_LtCO2_210416_B10206Ar_210922041357s.SUB.nc4\\n',\n",
       " 'C:/Users/Ochibobo/Arset/2021_data\\\\oco2_LtCO2_210417_B10206Ar_210922042216s.SUB.nc4\\n',\n",
       " 'C:/Users/Ochibobo/Arset/2021_data\\\\oco2_LtCO2_210418_B10206Ar_210922042754s.SUB.nc4\\n',\n",
       " 'C:/Users/Ochibobo/Arset/2021_data\\\\oco2_LtCO2_210419_B10206Ar_210922043452s.SUB.nc4\\n',\n",
       " 'C:/Users/Ochibobo/Arset/2021_data\\\\oco2_LtCO2_210420_B10206Ar_210922044125s.SUB.nc4\\n',\n",
       " 'C:/Users/Ochibobo/Arset/2021_data\\\\oco2_LtCO2_210421_B10206Ar_210922044209s.SUB.nc4\\n',\n",
       " 'C:/Users/Ochibobo/Arset/2021_data\\\\oco2_LtCO2_210422_B10206Ar_210922044709s.SUB.nc4\\n',\n",
       " 'C:/Users/Ochibobo/Arset/2021_data\\\\oco2_LtCO2_210423_B10206Ar_210922045110s.SUB.nc4\\n',\n",
       " 'C:/Users/Ochibobo/Arset/2021_data\\\\oco2_LtCO2_210424_B10206Ar_210922045538s.SUB.nc4\\n',\n",
       " 'C:/Users/Ochibobo/Arset/2021_data\\\\oco2_LtCO2_210425_B10206Ar_210922045935s.SUB.nc4\\n',\n",
       " 'C:/Users/Ochibobo/Arset/2021_data\\\\oco2_LtCO2_210426_B10206Ar_210922050031s.SUB.nc4\\n',\n",
       " 'C:/Users/Ochibobo/Arset/2021_data\\\\oco2_LtCO2_210427_B10206Ar_210922050354s.SUB.nc4\\n',\n",
       " 'C:/Users/Ochibobo/Arset/2021_data\\\\oco2_LtCO2_210428_B10206Ar_210922050514s.SUB.nc4\\n',\n",
       " 'C:/Users/Ochibobo/Arset/2021_data\\\\oco2_LtCO2_210429_B10206Ar_210922050857s.SUB.nc4\\n',\n",
       " 'C:/Users/Ochibobo/Arset/2021_data\\\\oco2_LtCO2_210430_B10206Ar_210922172731s.SUB.nc4\\n',\n",
       " 'C:/Users/Ochibobo/Arset/2021_data\\\\oco2_LtCO2_210501_B10206Ar_210922172732s.SUB.nc4\\n',\n",
       " 'C:/Users/Ochibobo/Arset/2021_data\\\\oco2_LtCO2_210502_B10206Ar_210922173133s.SUB.nc4\\n',\n",
       " 'C:/Users/Ochibobo/Arset/2021_data\\\\oco2_LtCO2_210503_B10206Ar_210922173503s.SUB.nc4\\n',\n",
       " 'C:/Users/Ochibobo/Arset/2021_data\\\\oco2_LtCO2_210504_B10206Ar_210922173916s.SUB.nc4\\n',\n",
       " 'C:/Users/Ochibobo/Arset/2021_data\\\\oco2_LtCO2_210505_B10206Ar_210922174418s.SUB.nc4\\n',\n",
       " 'C:/Users/Ochibobo/Arset/2021_data\\\\oco2_LtCO2_210506_B10206Ar_210922174814s.SUB.nc4\\n',\n",
       " 'C:/Users/Ochibobo/Arset/2021_data\\\\oco2_LtCO2_210507_B10206Ar_210922175231s.SUB.nc4\\n',\n",
       " 'C:/Users/Ochibobo/Arset/2021_data\\\\oco2_LtCO2_210508_B10206Ar_210922175735s.SUB.nc4\\n',\n",
       " 'C:/Users/Ochibobo/Arset/2021_data\\\\oco2_LtCO2_210509_B10206Ar_210922180202s.SUB.nc4\\n',\n",
       " 'C:/Users/Ochibobo/Arset/2021_data\\\\oco2_LtCO2_210510_B10206Ar_210922180556s.SUB.nc4\\n',\n",
       " 'C:/Users/Ochibobo/Arset/2021_data\\\\oco2_LtCO2_210511_B10206Ar_210922180954s.SUB.nc4\\n',\n",
       " 'C:/Users/Ochibobo/Arset/2021_data\\\\oco2_LtCO2_210512_B10206Ar_210922181425s.SUB.nc4\\n',\n",
       " 'C:/Users/Ochibobo/Arset/2021_data\\\\oco2_LtCO2_210513_B10206Ar_210922181824s.SUB.nc4\\n',\n",
       " 'C:/Users/Ochibobo/Arset/2021_data\\\\oco2_LtCO2_210514_B10206Ar_210922182215s.SUB.nc4\\n',\n",
       " 'C:/Users/Ochibobo/Arset/2021_data\\\\oco2_LtCO2_210515_B10206Ar_210922182731s.SUB.nc4\\n',\n",
       " 'C:/Users/Ochibobo/Arset/2021_data\\\\oco2_LtCO2_210516_B10206Ar_210922183225s.SUB.nc4\\n',\n",
       " 'C:/Users/Ochibobo/Arset/2021_data\\\\oco2_LtCO2_210517_B10206Ar_210922183647s.SUB.nc4\\n',\n",
       " 'C:/Users/Ochibobo/Arset/2021_data\\\\oco2_LtCO2_210518_B10206Ar_210922184052s.SUB.nc4\\n',\n",
       " 'C:/Users/Ochibobo/Arset/2021_data\\\\oco2_LtCO2_210519_B10206Ar_210922184538s.SUB.nc4\\n',\n",
       " 'C:/Users/Ochibobo/Arset/2021_data\\\\oco2_LtCO2_210520_B10206Ar_210922184949s.SUB.nc4\\n',\n",
       " 'C:/Users/Ochibobo/Arset/2021_data\\\\oco2_LtCO2_210521_B10206Ar_210922185316s.SUB.nc4\\n',\n",
       " 'C:/Users/Ochibobo/Arset/2021_data\\\\oco2_LtCO2_210522_B10206Ar_210922185700s.SUB.nc4\\n',\n",
       " 'C:/Users/Ochibobo/Arset/2021_data\\\\oco2_LtCO2_210523_B10206Ar_210922190055s.SUB.nc4\\n',\n",
       " 'C:/Users/Ochibobo/Arset/2021_data\\\\oco2_LtCO2_210524_B10206Ar_210922190423s.SUB.nc4\\n',\n",
       " 'C:/Users/Ochibobo/Arset/2021_data\\\\oco2_LtCO2_210525_B10206Ar_210922190810s.SUB.nc4\\n',\n",
       " 'C:/Users/Ochibobo/Arset/2021_data\\\\oco2_LtCO2_210526_B10206Ar_210922191250s.SUB.nc4\\n',\n",
       " 'C:/Users/Ochibobo/Arset/2021_data\\\\oco2_LtCO2_210527_B10206Ar_210922191710s.SUB.nc4\\n',\n",
       " 'C:/Users/Ochibobo/Arset/2021_data\\\\oco2_LtCO2_210528_B10206Ar_210922192118s.SUB.nc4\\n',\n",
       " 'C:/Users/Ochibobo/Arset/2021_data\\\\oco2_LtCO2_210529_B10206Ar_210922192619s.SUB.nc4\\n',\n",
       " 'C:/Users/Ochibobo/Arset/2021_data\\\\oco2_LtCO2_210530_B10206Ar_210922193131s.SUB.nc4\\n',\n",
       " 'C:/Users/Ochibobo/Arset/2021_data\\\\oco2_LtCO2_210531_B10206Ar_210922173149s.SUB.nc4\\n',\n",
       " 'C:/Users/Ochibobo/Arset/2021_data\\\\oco2_LtCO2_210601_B10206Ar_210922173553s.SUB.nc4\\n',\n",
       " 'C:/Users/Ochibobo/Arset/2021_data\\\\oco2_LtCO2_210602_B10206Ar_210922174007s.SUB.nc4\\n',\n",
       " 'C:/Users/Ochibobo/Arset/2021_data\\\\oco2_LtCO2_210603_B10206Ar_210922174454s.SUB.nc4\\n',\n",
       " 'C:/Users/Ochibobo/Arset/2021_data\\\\oco2_LtCO2_210604_B10206Ar_210922174845s.SUB.nc4\\n',\n",
       " 'C:/Users/Ochibobo/Arset/2021_data\\\\oco2_LtCO2_210605_B10206Ar_210922175430s.SUB.nc4\\n',\n",
       " 'C:/Users/Ochibobo/Arset/2021_data\\\\oco2_LtCO2_210606_B10206Ar_210922175918s.SUB.nc4\\n',\n",
       " 'C:/Users/Ochibobo/Arset/2021_data\\\\oco2_LtCO2_210607_B10206Ar_210922180346s.SUB.nc4\\n',\n",
       " 'C:/Users/Ochibobo/Arset/2021_data\\\\oco2_LtCO2_210608_B10206Ar_210922180737s.SUB.nc4\\n',\n",
       " 'C:/Users/Ochibobo/Arset/2021_data\\\\oco2_LtCO2_210609_B10206Ar_210922181139s.SUB.nc4\\n',\n",
       " 'C:/Users/Ochibobo/Arset/2021_data\\\\oco2_LtCO2_210610_B10206Ar_210922181550s.SUB.nc4\\n',\n",
       " 'C:/Users/Ochibobo/Arset/2021_data\\\\oco2_LtCO2_210611_B10206Ar_210922181956s.SUB.nc4\\n',\n",
       " 'C:/Users/Ochibobo/Arset/2021_data\\\\oco2_LtCO2_210612_B10206Ar_210922182350s.SUB.nc4\\n',\n",
       " 'C:/Users/Ochibobo/Arset/2021_data\\\\oco2_LtCO2_210613_B10206Ar_210922182839s.SUB.nc4\\n',\n",
       " 'C:/Users/Ochibobo/Arset/2021_data\\\\oco2_LtCO2_210614_B10206Ar_210922183249s.SUB.nc4\\n',\n",
       " 'C:/Users/Ochibobo/Arset/2021_data\\\\oco2_LtCO2_210615_B10206Ar_210922183656s.SUB.nc4\\n',\n",
       " 'C:/Users/Ochibobo/Arset/2021_data\\\\oco2_LtCO2_210616_B10206Ar_210922184115s.SUB.nc4\\n',\n",
       " 'C:/Users/Ochibobo/Arset/2021_data\\\\oco2_LtCO2_210617_B10206Ar_210922184542s.SUB.nc4\\n',\n",
       " 'C:/Users/Ochibobo/Arset/2021_data\\\\oco2_LtCO2_210618_B10206Ar_210922185001s.SUB.nc4\\n',\n",
       " 'C:/Users/Ochibobo/Arset/2021_data\\\\oco2_LtCO2_210619_B10206Ar_210922185352s.SUB.nc4\\n',\n",
       " 'C:/Users/Ochibobo/Arset/2021_data\\\\oco2_LtCO2_210620_B10206Ar_210922185911s.SUB.nc4\\n',\n",
       " 'C:/Users/Ochibobo/Arset/2021_data\\\\oco2_LtCO2_210621_B10206Ar_210922190341s.SUB.nc4\\n',\n",
       " 'C:/Users/Ochibobo/Arset/2021_data\\\\oco2_LtCO2_210622_B10206Ar_210922190805s.SUB.nc4\\n',\n",
       " 'C:/Users/Ochibobo/Arset/2021_data\\\\oco2_LtCO2_210623_B10206Ar_210922191228s.SUB.nc4\\n',\n",
       " 'C:/Users/Ochibobo/Arset/2021_data\\\\oco2_LtCO2_210624_B10206Ar_210922191632s.SUB.nc4\\n',\n",
       " 'C:/Users/Ochibobo/Arset/2021_data\\\\oco2_LtCO2_210625_B10206Ar_210922192041s.SUB.nc4\\n',\n",
       " 'C:/Users/Ochibobo/Arset/2021_data\\\\oco2_LtCO2_210626_B10206Ar_210922192419s.SUB.nc4\\n',\n",
       " 'C:/Users/Ochibobo/Arset/2021_data\\\\oco2_LtCO2_210627_B10206Ar_210922192902s.SUB.nc4\\n',\n",
       " 'C:/Users/Ochibobo/Arset/2021_data\\\\oco2_LtCO2_210628_B10206Ar_210922193317s.SUB.nc4\\n',\n",
       " 'C:/Users/Ochibobo/Arset/2021_data\\\\oco2_LtCO2_210629_B10206Ar_210922193544s.SUB.nc4\\n',\n",
       " 'C:/Users/Ochibobo/Arset/2021_data\\\\oco2_LtCO2_210630_B10206Ar_210922193738s.SUB.nc4\\n',\n",
       " 'C:/Users/Ochibobo/Arset/2021_data\\\\oco2_LtCO2_210701_B10206Ar_211104001412s.SUB.nc4\\n',\n",
       " 'C:/Users/Ochibobo/Arset/2021_data\\\\oco2_LtCO2_210702_B10206Ar_211104001415s.SUB.nc4\\n',\n",
       " 'C:/Users/Ochibobo/Arset/2021_data\\\\oco2_LtCO2_210703_B10206Ar_211104001900s.SUB.nc4\\n',\n",
       " 'C:/Users/Ochibobo/Arset/2021_data\\\\oco2_LtCO2_210704_B10206Ar_211104001926s.SUB.nc4\\n',\n",
       " 'C:/Users/Ochibobo/Arset/2021_data\\\\oco2_LtCO2_210705_B10206Ar_211104002554s.SUB.nc4\\n',\n",
       " 'C:/Users/Ochibobo/Arset/2021_data\\\\oco2_LtCO2_210706_B10206Ar_211104002615s.SUB.nc4\\n',\n",
       " 'C:/Users/Ochibobo/Arset/2021_data\\\\oco2_LtCO2_210707_B10206Ar_211104003024s.SUB.nc4\\n',\n",
       " 'C:/Users/Ochibobo/Arset/2021_data\\\\oco2_LtCO2_210708_B10206Ar_211104003216s.SUB.nc4\\n',\n",
       " 'C:/Users/Ochibobo/Arset/2021_data\\\\oco2_LtCO2_210709_B10206Ar_211104003545s.SUB.nc4\\n',\n",
       " 'C:/Users/Ochibobo/Arset/2021_data\\\\oco2_LtCO2_210710_B10206Ar_211104003700s.SUB.nc4\\n',\n",
       " 'C:/Users/Ochibobo/Arset/2021_data\\\\oco2_LtCO2_210711_B10206Ar_211104004004s.SUB.nc4\\n',\n",
       " 'C:/Users/Ochibobo/Arset/2021_data\\\\oco2_LtCO2_210712_B10206Ar_211104004229s.SUB.nc4\\n',\n",
       " 'C:/Users/Ochibobo/Arset/2021_data\\\\oco2_LtCO2_210713_B10206Ar_211104004516s.SUB.nc4\\n',\n",
       " 'C:/Users/Ochibobo/Arset/2021_data\\\\oco2_LtCO2_210714_B10206Ar_211104004754s.SUB.nc4\\n',\n",
       " 'C:/Users/Ochibobo/Arset/2021_data\\\\oco2_LtCO2_210715_B10206Ar_211104005016s.SUB.nc4\\n',\n",
       " 'C:/Users/Ochibobo/Arset/2021_data\\\\oco2_LtCO2_210716_B10206Ar_211104005229s.SUB.nc4\\n',\n",
       " 'C:/Users/Ochibobo/Arset/2021_data\\\\oco2_LtCO2_210717_B10206Ar_211104005438s.SUB.nc4\\n',\n",
       " 'C:/Users/Ochibobo/Arset/2021_data\\\\oco2_LtCO2_210718_B10206Ar_211104005612s.SUB.nc4\\n',\n",
       " 'C:/Users/Ochibobo/Arset/2021_data\\\\oco2_LtCO2_210719_B10206Ar_211104005923s.SUB.nc4\\n',\n",
       " 'C:/Users/Ochibobo/Arset/2021_data\\\\oco2_LtCO2_210721_B10206Ar_211104010314s.SUB.nc4\\n',\n",
       " 'C:/Users/Ochibobo/Arset/2021_data\\\\oco2_LtCO2_210723_B10206Ar_211104010752s.SUB.nc4\\n',\n",
       " 'C:/Users/Ochibobo/Arset/2021_data\\\\oco2_LtCO2_210725_B10206Ar_211104011208s.SUB.nc4\\n',\n",
       " 'C:/Users/Ochibobo/Arset/2021_data\\\\oco2_LtCO2_210726_B10206Ar_211104011358s.SUB.nc4\\n',\n",
       " 'C:/Users/Ochibobo/Arset/2021_data\\\\oco2_LtCO2_210727_B10206Ar_211104011737s.SUB.nc4\\n',\n",
       " 'C:/Users/Ochibobo/Arset/2021_data\\\\oco2_LtCO2_210728_B10206Ar_211104011811s.SUB.nc4\\n',\n",
       " 'C:/Users/Ochibobo/Arset/2021_data\\\\oco2_LtCO2_210729_B10206Ar_211104012142s.SUB.nc4\\n',\n",
       " 'C:/Users/Ochibobo/Arset/2021_data\\\\oco2_LtCO2_210730_B10206Ar_211104012319s.SUB.nc4\\n',\n",
       " 'C:/Users/Ochibobo/Arset/2021_data\\\\oco2_LtCO2_210731_B10206Ar_211104012533s.SUB.nc4\\n',\n",
       " 'C:/Users/Ochibobo/Arset/2021_data\\\\oco2_LtCO2_210801_B10206Ar_211111174750s.SUB.nc4\\n',\n",
       " 'C:/Users/Ochibobo/Arset/2021_data\\\\oco2_LtCO2_210802_B10206Ar_211111174750s.SUB.nc4\\n',\n",
       " 'C:/Users/Ochibobo/Arset/2021_data\\\\oco2_LtCO2_210803_B10206Ar_211112180325s.SUB.nc4\\n',\n",
       " 'C:/Users/Ochibobo/Arset/2021_data\\\\oco2_LtCO2_210804_B10206Ar_211111175400s.SUB.nc4\\n',\n",
       " 'C:/Users/Ochibobo/Arset/2021_data\\\\oco2_LtCO2_210805_B10206Ar_211111175426s.SUB.nc4\\n',\n",
       " 'C:/Users/Ochibobo/Arset/2021_data\\\\oco2_LtCO2_210806_B10206Ar_211111175904s.SUB.nc4\\n',\n",
       " 'C:/Users/Ochibobo/Arset/2021_data\\\\oco2_LtCO2_210807_B10206Ar_211111180030s.SUB.nc4\\n',\n",
       " 'C:/Users/Ochibobo/Arset/2021_data\\\\oco2_LtCO2_210808_B10206Ar_211111180344s.SUB.nc4\\n',\n",
       " 'C:/Users/Ochibobo/Arset/2021_data\\\\oco2_LtCO2_210809_B10206Ar_211111180601s.SUB.nc4\\n',\n",
       " 'C:/Users/Ochibobo/Arset/2021_data\\\\oco2_LtCO2_210810_B10206Ar_211130182719s.SUB.nc4\\n',\n",
       " 'C:/Users/Ochibobo/Arset/2021_data\\\\oco2_LtCO2_210811_B10206Ar_211111181115s.SUB.nc4\\n',\n",
       " 'C:/Users/Ochibobo/Arset/2021_data\\\\oco2_LtCO2_210812_B10206Ar_211111181420s.SUB.nc4\\n',\n",
       " 'C:/Users/Ochibobo/Arset/2021_data\\\\oco2_LtCO2_210813_B10206Ar_211111181643s.SUB.nc4\\n',\n",
       " 'C:/Users/Ochibobo/Arset/2021_data\\\\oco2_LtCO2_210814_B10206Ar_211130182724s.SUB.nc4\\n',\n",
       " 'C:/Users/Ochibobo/Arset/2021_data\\\\oco2_LtCO2_210815_B10206Ar_211112180330s.SUB.nc4\\n',\n",
       " 'C:/Users/Ochibobo/Arset/2021_data\\\\oco2_LtCO2_210816_B10206Ar_211111182142s.SUB.nc4\\n',\n",
       " 'C:/Users/Ochibobo/Arset/2021_data\\\\oco2_LtCO2_210817_B10206Ar_211111182447s.SUB.nc4\\n',\n",
       " 'C:/Users/Ochibobo/Arset/2021_data\\\\oco2_LtCO2_210818_B10206Ar_211111182640s.SUB.nc4\\n',\n",
       " 'C:/Users/Ochibobo/Arset/2021_data\\\\oco2_LtCO2_210819_B10206Ar_211111182926s.SUB.nc4\\n',\n",
       " 'C:/Users/Ochibobo/Arset/2021_data\\\\oco2_LtCO2_210820_B10206Ar_211111183210s.SUB.nc4\\n',\n",
       " 'C:/Users/Ochibobo/Arset/2021_data\\\\oco2_LtCO2_210821_B10206Ar_211111183359s.SUB.nc4\\n',\n",
       " 'C:/Users/Ochibobo/Arset/2021_data\\\\oco2_LtCO2_210822_B10206Ar_211112180759s.SUB.nc4\\n',\n",
       " 'C:/Users/Ochibobo/Arset/2021_data\\\\oco2_LtCO2_210823_B10206Ar_211112180912s.SUB.nc4\\n',\n",
       " 'C:/Users/Ochibobo/Arset/2021_data\\\\oco2_LtCO2_210824_B10206Ar_211111183717s.SUB.nc4\\n',\n",
       " 'C:/Users/Ochibobo/Arset/2021_data\\\\oco2_LtCO2_210825_B10206Ar_211111183821s.SUB.nc4\\n',\n",
       " 'C:/Users/Ochibobo/Arset/2021_data\\\\oco2_LtCO2_210826_B10206Ar_211111184217s.SUB.nc4\\n',\n",
       " 'C:/Users/Ochibobo/Arset/2021_data\\\\oco2_LtCO2_210827_B10206Ar_211111184334s.SUB.nc4\\n',\n",
       " 'C:/Users/Ochibobo/Arset/2021_data\\\\oco2_LtCO2_210828_B10206Ar_211111184737s.SUB.nc4\\n',\n",
       " 'C:/Users/Ochibobo/Arset/2021_data\\\\oco2_LtCO2_210829_B10206Ar_211111184740s.SUB.nc4\\n',\n",
       " 'C:/Users/Ochibobo/Arset/2021_data\\\\oco2_LtCO2_210830_B10206Ar_211111185253s.SUB.nc4\\n',\n",
       " 'C:/Users/Ochibobo/Arset/2021_data\\\\oco2_LtCO2_210831_B10206Ar_211111185306s.SUB.nc4\\n',\n",
       " 'C:/Users/Ochibobo/Arset/2021_data\\\\oco2_LtCO2_210901_B10206Ar_211117171711s.SUB.nc4\\n',\n",
       " 'C:/Users/Ochibobo/Arset/2021_data\\\\oco2_LtCO2_210902_B10206Ar_211117171711s.SUB.nc4\\n',\n",
       " 'C:/Users/Ochibobo/Arset/2021_data\\\\oco2_LtCO2_210903_B10206Ar_211117172316s.SUB.nc4\\n',\n",
       " 'C:/Users/Ochibobo/Arset/2021_data\\\\oco2_LtCO2_210904_B10206Ar_211117172358s.SUB.nc4\\n',\n",
       " 'C:/Users/Ochibobo/Arset/2021_data\\\\oco2_LtCO2_210905_B10206Ar_211117172835s.SUB.nc4\\n',\n",
       " 'C:/Users/Ochibobo/Arset/2021_data\\\\oco2_LtCO2_210906_B10206Ar_211117172854s.SUB.nc4\\n',\n",
       " 'C:/Users/Ochibobo/Arset/2021_data\\\\oco2_LtCO2_210907_B10206Ar_211117173407s.SUB.nc4\\n',\n",
       " 'C:/Users/Ochibobo/Arset/2021_data\\\\oco2_LtCO2_210908_B10206Ar_211117173503s.SUB.nc4\\n',\n",
       " 'C:/Users/Ochibobo/Arset/2021_data\\\\oco2_LtCO2_210909_B10206Ar_211117173918s.SUB.nc4\\n',\n",
       " 'C:/Users/Ochibobo/Arset/2021_data\\\\oco2_LtCO2_210910_B10206Ar_211117174049s.SUB.nc4\\n',\n",
       " 'C:/Users/Ochibobo/Arset/2021_data\\\\oco2_LtCO2_210911_B10206Ar_211117174511s.SUB.nc4\\n',\n",
       " 'C:/Users/Ochibobo/Arset/2021_data\\\\oco2_LtCO2_210912_B10206Ar_211117174623s.SUB.nc4\\n',\n",
       " 'C:/Users/Ochibobo/Arset/2021_data\\\\oco2_LtCO2_210915_B10206Ar_211117175013s.SUB.nc4\\n',\n",
       " 'C:/Users/Ochibobo/Arset/2021_data\\\\oco2_LtCO2_210916_B10206Ar_211117175019s.SUB.nc4\\n',\n",
       " 'C:/Users/Ochibobo/Arset/2021_data\\\\oco2_LtCO2_210917_B10206Ar_211117175244s.SUB.nc4\\n',\n",
       " 'C:/Users/Ochibobo/Arset/2021_data\\\\oco2_LtCO2_210918_B10206Ar_211117175723s.SUB.nc4\\n',\n",
       " 'C:/Users/Ochibobo/Arset/2021_data\\\\oco2_LtCO2_210919_B10206Ar_211117175827s.SUB.nc4\\n',\n",
       " 'C:/Users/Ochibobo/Arset/2021_data\\\\oco2_LtCO2_210920_B10206Ar_211117180300s.SUB.nc4\\n',\n",
       " 'C:/Users/Ochibobo/Arset/2021_data\\\\oco2_LtCO2_210921_B10206Ar_211117180454s.SUB.nc4\\n',\n",
       " 'C:/Users/Ochibobo/Arset/2021_data\\\\oco2_LtCO2_210922_B10206Ar_211117180936s.SUB.nc4\\n',\n",
       " 'C:/Users/Ochibobo/Arset/2021_data\\\\oco2_LtCO2_210923_B10206Ar_211117181101s.SUB.nc4\\n',\n",
       " 'C:/Users/Ochibobo/Arset/2021_data\\\\oco2_LtCO2_210924_B10206Ar_211117181540s.SUB.nc4\\n',\n",
       " 'C:/Users/Ochibobo/Arset/2021_data\\\\oco2_LtCO2_210925_B10206Ar_211117181817s.SUB.nc4\\n',\n",
       " 'C:/Users/Ochibobo/Arset/2021_data\\\\oco2_LtCO2_210926_B10206Ar_211117182046s.SUB.nc4\\n',\n",
       " 'C:/Users/Ochibobo/Arset/2021_data\\\\oco2_LtCO2_210927_B10206Ar_211117182328s.SUB.nc4\\n',\n",
       " 'C:/Users/Ochibobo/Arset/2021_data\\\\oco2_LtCO2_210928_B10206Ar_211117182702s.SUB.nc4\\n',\n",
       " 'C:/Users/Ochibobo/Arset/2021_data\\\\oco2_LtCO2_210929_B10206Ar_211117182952s.SUB.nc4\\n',\n",
       " 'C:/Users/Ochibobo/Arset/2021_data\\\\oco2_LtCO2_210930_B10206Ar_211117183237s.SUB.nc4\\n',\n",
       " 'C:/Users/Ochibobo/Arset/2021_data\\\\oco2_LtCO2_211001_B10206Ar_220103190435s.SUB.nc4\\n',\n",
       " 'C:/Users/Ochibobo/Arset/2021_data\\\\oco2_LtCO2_211002_B10206Ar_220103190439s.SUB.nc4\\n',\n",
       " 'C:/Users/Ochibobo/Arset/2021_data\\\\oco2_LtCO2_211003_B10206Ar_220103190921s.SUB.nc4\\n',\n",
       " 'C:/Users/Ochibobo/Arset/2021_data\\\\oco2_LtCO2_211004_B10206Ar_220103190923s.SUB.nc4\\n',\n",
       " 'C:/Users/Ochibobo/Arset/2021_data\\\\oco2_LtCO2_211005_B10206Ar_220103191548s.SUB.nc4\\n',\n",
       " 'C:/Users/Ochibobo/Arset/2021_data\\\\oco2_LtCO2_211006_B10206Ar_220103191555s.SUB.nc4\\n',\n",
       " 'C:/Users/Ochibobo/Arset/2021_data\\\\oco2_LtCO2_211007_B10206Ar_220103191949s.SUB.nc4\\n',\n",
       " 'C:/Users/Ochibobo/Arset/2021_data\\\\oco2_LtCO2_211008_B10206Ar_220103192032s.SUB.nc4\\n',\n",
       " 'C:/Users/Ochibobo/Arset/2021_data\\\\oco2_LtCO2_211009_B10206Ar_220103192607s.SUB.nc4\\n',\n",
       " 'C:/Users/Ochibobo/Arset/2021_data\\\\oco2_LtCO2_211010_B10206Ar_220103192632s.SUB.nc4\\n',\n",
       " 'C:/Users/Ochibobo/Arset/2021_data\\\\oco2_LtCO2_211011_B10206Ar_220103193106s.SUB.nc4\\n',\n",
       " 'C:/Users/Ochibobo/Arset/2021_data\\\\oco2_LtCO2_211012_B10206Ar_220103193153s.SUB.nc4\\n',\n",
       " 'C:/Users/Ochibobo/Arset/2021_data\\\\oco2_LtCO2_211013_B10206Ar_220103193708s.SUB.nc4\\n',\n",
       " 'C:/Users/Ochibobo/Arset/2021_data\\\\oco2_LtCO2_211014_B10206Ar_220103193724s.SUB.nc4\\n',\n",
       " 'C:/Users/Ochibobo/Arset/2021_data\\\\oco2_LtCO2_211015_B10206Ar_220103194200s.SUB.nc4\\n',\n",
       " 'C:/Users/Ochibobo/Arset/2021_data\\\\oco2_LtCO2_211016_B10206Ar_220103194336s.SUB.nc4\\n',\n",
       " 'C:/Users/Ochibobo/Arset/2021_data\\\\oco2_LtCO2_211017_B10206Ar_220103194754s.SUB.nc4\\n',\n",
       " 'C:/Users/Ochibobo/Arset/2021_data\\\\oco2_LtCO2_211018_B10206Ar_220103194917s.SUB.nc4\\n',\n",
       " 'C:/Users/Ochibobo/Arset/2021_data\\\\oco2_LtCO2_211019_B10206Ar_220103195247s.SUB.nc4\\n',\n",
       " 'C:/Users/Ochibobo/Arset/2021_data\\\\oco2_LtCO2_211020_B10206Ar_220103195430s.SUB.nc4\\n',\n",
       " 'C:/Users/Ochibobo/Arset/2021_data\\\\oco2_LtCO2_211021_B10206Ar_220103195706s.SUB.nc4\\n',\n",
       " 'C:/Users/Ochibobo/Arset/2021_data\\\\oco2_LtCO2_211022_B10206Ar_220103195931s.SUB.nc4\\n',\n",
       " 'C:/Users/Ochibobo/Arset/2021_data\\\\oco2_LtCO2_211023_B10206Ar_220103200211s.SUB.nc4\\n',\n",
       " 'C:/Users/Ochibobo/Arset/2021_data\\\\oco2_LtCO2_211024_B10206Ar_220103200505s.SUB.nc4\\n',\n",
       " 'C:/Users/Ochibobo/Arset/2021_data\\\\oco2_LtCO2_211025_B10206Ar_220103200705s.SUB.nc4\\n',\n",
       " 'C:/Users/Ochibobo/Arset/2021_data\\\\oco2_LtCO2_211026_B10206Ar_220103201057s.SUB.nc4\\n',\n",
       " 'C:/Users/Ochibobo/Arset/2021_data\\\\oco2_LtCO2_211027_B10206Ar_220103201247s.SUB.nc4\\n',\n",
       " 'C:/Users/Ochibobo/Arset/2021_data\\\\oco2_LtCO2_211028_B10206Ar_220103201540s.SUB.nc4\\n',\n",
       " 'C:/Users/Ochibobo/Arset/2021_data\\\\oco2_LtCO2_211029_B10206Ar_220103201741s.SUB.nc4\\n',\n",
       " 'C:/Users/Ochibobo/Arset/2021_data\\\\oco2_LtCO2_211030_B10206Ar_220103202104s.SUB.nc4\\n',\n",
       " 'C:/Users/Ochibobo/Arset/2021_data\\\\oco2_LtCO2_211031_B10206Ar_220103202233s.SUB.nc4\\n',\n",
       " 'C:/Users/Ochibobo/Arset/2021_data\\\\oco2_LtCO2_211101_B10206Ar_220212190846s.SUB.nc4\\n',\n",
       " 'C:/Users/Ochibobo/Arset/2021_data\\\\oco2_LtCO2_211102_B10206Ar_220212190846s.SUB.nc4\\n',\n",
       " 'C:/Users/Ochibobo/Arset/2021_data\\\\oco2_LtCO2_211103_B10206Ar_220212191330s.SUB.nc4\\n',\n",
       " 'C:/Users/Ochibobo/Arset/2021_data\\\\oco2_LtCO2_211104_B10206Ar_220212191343s.SUB.nc4\\n',\n",
       " 'C:/Users/Ochibobo/Arset/2021_data\\\\oco2_LtCO2_211105_B10206Ar_220212191923s.SUB.nc4\\n',\n",
       " 'C:/Users/Ochibobo/Arset/2021_data\\\\oco2_LtCO2_211106_B10206Ar_220212192011s.SUB.nc4\\n',\n",
       " 'C:/Users/Ochibobo/Arset/2021_data\\\\oco2_LtCO2_211107_B10206Ar_220212192421s.SUB.nc4\\n',\n",
       " 'C:/Users/Ochibobo/Arset/2021_data\\\\oco2_LtCO2_211108_B10206Ar_220212192518s.SUB.nc4\\n',\n",
       " 'C:/Users/Ochibobo/Arset/2021_data\\\\oco2_LtCO2_211109_B10206Ar_220212192818s.SUB.nc4\\n',\n",
       " 'C:/Users/Ochibobo/Arset/2021_data\\\\oco2_LtCO2_211110_B10206Ar_220212193110s.SUB.nc4\\n',\n",
       " 'C:/Users/Ochibobo/Arset/2021_data\\\\oco2_LtCO2_211111_B10206Ar_220212193354s.SUB.nc4\\n',\n",
       " 'C:/Users/Ochibobo/Arset/2021_data\\\\oco2_LtCO2_211112_B10206Ar_220212193622s.SUB.nc4\\n',\n",
       " 'C:/Users/Ochibobo/Arset/2021_data\\\\oco2_LtCO2_211113_B10206Ar_220212193834s.SUB.nc4\\n',\n",
       " 'C:/Users/Ochibobo/Arset/2021_data\\\\oco2_LtCO2_211114_B10206Ar_220212194219s.SUB.nc4\\n',\n",
       " 'C:/Users/Ochibobo/Arset/2021_data\\\\oco2_LtCO2_211115_B10206Ar_220212194301s.SUB.nc4\\n',\n",
       " 'C:/Users/Ochibobo/Arset/2021_data\\\\oco2_LtCO2_211116_B10206Ar_220212194648s.SUB.nc4\\n',\n",
       " 'C:/Users/Ochibobo/Arset/2021_data\\\\oco2_LtCO2_211117_B10206Ar_220212194806s.SUB.nc4\\n',\n",
       " 'C:/Users/Ochibobo/Arset/2021_data\\\\oco2_LtCO2_211118_B10206Ar_220212195210s.SUB.nc4\\n',\n",
       " 'C:/Users/Ochibobo/Arset/2021_data\\\\oco2_LtCO2_211119_B10206Ar_220212195304s.SUB.nc4\\n',\n",
       " 'C:/Users/Ochibobo/Arset/2021_data\\\\oco2_LtCO2_211120_B10206Ar_220212195735s.SUB.nc4\\n',\n",
       " 'C:/Users/Ochibobo/Arset/2021_data\\\\oco2_LtCO2_211121_B10206Ar_220212195817s.SUB.nc4\\n',\n",
       " 'C:/Users/Ochibobo/Arset/2021_data\\\\oco2_LtCO2_211122_B10206Ar_220212200207s.SUB.nc4\\n',\n",
       " 'C:/Users/Ochibobo/Arset/2021_data\\\\oco2_LtCO2_211123_B10206Ar_220212200207s.SUB.nc4\\n',\n",
       " 'C:/Users/Ochibobo/Arset/2021_data\\\\oco2_LtCO2_211124_B10206Ar_220212200722s.SUB.nc4\\n',\n",
       " 'C:/Users/Ochibobo/Arset/2021_data\\\\oco2_LtCO2_211125_B10206Ar_220212200733s.SUB.nc4\\n',\n",
       " 'C:/Users/Ochibobo/Arset/2021_data\\\\oco2_LtCO2_211126_B10206Ar_220212201216s.SUB.nc4\\n',\n",
       " 'C:/Users/Ochibobo/Arset/2021_data\\\\oco2_LtCO2_211127_B10206Ar_220212201221s.SUB.nc4\\n',\n",
       " 'C:/Users/Ochibobo/Arset/2021_data\\\\oco2_LtCO2_211128_B10206Ar_220212201641s.SUB.nc4\\n',\n",
       " 'C:/Users/Ochibobo/Arset/2021_data\\\\oco2_LtCO2_211129_B10206Ar_220212201651s.SUB.nc4\\n',\n",
       " 'C:/Users/Ochibobo/Arset/2021_data\\\\oco2_LtCO2_211130_B10206Ar_220212202113s.SUB.nc4\\n',\n",
       " 'C:/Users/Ochibobo/Arset/2021_data\\\\oco2_LtCO2_211201_B10206Ar_220228183136s.SUB.nc4\\n',\n",
       " 'C:/Users/Ochibobo/Arset/2021_data\\\\oco2_LtCO2_211202_B10206Ar_220228183141s.SUB.nc4\\n',\n",
       " 'C:/Users/Ochibobo/Arset/2021_data\\\\oco2_LtCO2_211203_B10206Ar_220228183600s.SUB.nc4\\n',\n",
       " 'C:/Users/Ochibobo/Arset/2021_data\\\\oco2_LtCO2_211204_B10206Ar_220228183610s.SUB.nc4\\n',\n",
       " 'C:/Users/Ochibobo/Arset/2021_data\\\\oco2_LtCO2_211205_B10206Ar_220228184104s.SUB.nc4\\n',\n",
       " 'C:/Users/Ochibobo/Arset/2021_data\\\\oco2_LtCO2_211206_B10206Ar_220228184152s.SUB.nc4\\n',\n",
       " 'C:/Users/Ochibobo/Arset/2021_data\\\\oco2_LtCO2_211207_B10206Ar_220228184455s.SUB.nc4\\n',\n",
       " 'C:/Users/Ochibobo/Arset/2021_data\\\\oco2_LtCO2_211208_B10206Ar_220228184608s.SUB.nc4\\n',\n",
       " 'C:/Users/Ochibobo/Arset/2021_data\\\\oco2_LtCO2_211209_B10206Ar_220228184912s.SUB.nc4\\n',\n",
       " 'C:/Users/Ochibobo/Arset/2021_data\\\\oco2_LtCO2_211210_B10206Ar_220228185017s.SUB.nc4\\n',\n",
       " 'C:/Users/Ochibobo/Arset/2021_data\\\\oco2_LtCO2_211211_B10206Ar_220228185226s.SUB.nc4\\n',\n",
       " 'C:/Users/Ochibobo/Arset/2021_data\\\\oco2_LtCO2_211212_B10206Ar_220228185536s.SUB.nc4\\n',\n",
       " 'C:/Users/Ochibobo/Arset/2021_data\\\\oco2_LtCO2_211213_B10206Ar_220228185719s.SUB.nc4\\n',\n",
       " 'C:/Users/Ochibobo/Arset/2021_data\\\\oco2_LtCO2_211214_B10206Ar_220228185937s.SUB.nc4\\n',\n",
       " 'C:/Users/Ochibobo/Arset/2021_data\\\\oco2_LtCO2_211215_B10206Ar_220228190133s.SUB.nc4\\n',\n",
       " 'C:/Users/Ochibobo/Arset/2021_data\\\\oco2_LtCO2_211216_B10206Ar_220228190439s.SUB.nc4\\n',\n",
       " 'C:/Users/Ochibobo/Arset/2021_data\\\\oco2_LtCO2_211217_B10206Ar_220228190519s.SUB.nc4\\n',\n",
       " 'C:/Users/Ochibobo/Arset/2021_data\\\\oco2_LtCO2_211218_B10206Ar_220228190853s.SUB.nc4\\n',\n",
       " 'C:/Users/Ochibobo/Arset/2021_data\\\\oco2_LtCO2_211219_B10206Ar_220228191020s.SUB.nc4\\n',\n",
       " 'C:/Users/Ochibobo/Arset/2021_data\\\\oco2_LtCO2_211220_B10206Ar_220228191351s.SUB.nc4\\n',\n",
       " 'C:/Users/Ochibobo/Arset/2021_data\\\\oco2_LtCO2_211221_B10206Ar_220228191419s.SUB.nc4\\n',\n",
       " 'C:/Users/Ochibobo/Arset/2021_data\\\\oco2_LtCO2_211222_B10206Ar_220228191848s.SUB.nc4\\n',\n",
       " 'C:/Users/Ochibobo/Arset/2021_data\\\\oco2_LtCO2_211223_B10206Ar_220228191906s.SUB.nc4\\n',\n",
       " 'C:/Users/Ochibobo/Arset/2021_data\\\\oco2_LtCO2_211224_B10206Ar_220228192307s.SUB.nc4\\n',\n",
       " 'C:/Users/Ochibobo/Arset/2021_data\\\\oco2_LtCO2_211225_B10206Ar_220228192342s.SUB.nc4\\n',\n",
       " 'C:/Users/Ochibobo/Arset/2021_data\\\\oco2_LtCO2_211226_B10206Ar_220228192808s.SUB.nc4\\n',\n",
       " 'C:/Users/Ochibobo/Arset/2021_data\\\\oco2_LtCO2_211227_B10206Ar_220228192832s.SUB.nc4\\n',\n",
       " 'C:/Users/Ochibobo/Arset/2021_data\\\\oco2_LtCO2_211228_B10206Ar_220228193222s.SUB.nc4\\n',\n",
       " 'C:/Users/Ochibobo/Arset/2021_data\\\\oco2_LtCO2_211229_B10206Ar_220228193327s.SUB.nc4\\n',\n",
       " 'C:/Users/Ochibobo/Arset/2021_data\\\\oco2_LtCO2_211230_B10206Ar_220228193705s.SUB.nc4\\n',\n",
       " 'C:/Users/Ochibobo/Arset/2021_data\\\\oco2_LtCO2_211231_B10206Ar_220228193805s.SUB.nc4\\n',\n",
       " 'C:/Users/Ochibobo/Arset/2021_data\\\\oco2_LtCO2_220101_B10206Ar_220413004740s.SUB.nc4\\n']"
      ]
     },
     "execution_count": 40,
     "metadata": {},
     "output_type": "execute_result"
    }
   ],
   "source": [
    "path_oco_2"
   ]
  },
  {
   "cell_type": "markdown",
   "id": "cc7dfc93",
   "metadata": {},
   "source": [
    "### Change the RANGE in FOR LOOP after calculating the TOTAL FILES in the PATH"
   ]
  },
  {
   "cell_type": "code",
   "execution_count": 42,
   "id": "f5f95918",
   "metadata": {},
   "outputs": [
    {
     "data": {
      "text/plain": [
       "354"
      ]
     },
     "execution_count": 42,
     "metadata": {},
     "output_type": "execute_result"
    }
   ],
   "source": [
    "total_files= len(path_oco_2)\n",
    "total_files"
   ]
  },
  {
   "cell_type": "code",
   "execution_count": 43,
   "id": "1a0fa209",
   "metadata": {},
   "outputs": [
    {
     "ename": "OSError",
     "evalue": "[Errno 28] No space left on device",
     "output_type": "error",
     "traceback": [
      "\u001b[1;31m---------------------------------------------------------------------------\u001b[0m",
      "\u001b[1;31mOSError\u001b[0m                                   Traceback (most recent call last)",
      "File \u001b[1;32m~\\anaconda3\\lib\\site-packages\\pandas\\io\\formats\\csvs.py:261\u001b[0m, in \u001b[0;36mCSVFormatter.save\u001b[1;34m(self)\u001b[0m\n\u001b[0;32m    251\u001b[0m \u001b[38;5;28mself\u001b[39m\u001b[38;5;241m.\u001b[39mwriter \u001b[38;5;241m=\u001b[39m csvlib\u001b[38;5;241m.\u001b[39mwriter(\n\u001b[0;32m    252\u001b[0m     handles\u001b[38;5;241m.\u001b[39mhandle,\n\u001b[0;32m    253\u001b[0m     lineterminator\u001b[38;5;241m=\u001b[39m\u001b[38;5;28mself\u001b[39m\u001b[38;5;241m.\u001b[39mline_terminator,\n\u001b[1;32m   (...)\u001b[0m\n\u001b[0;32m    258\u001b[0m     quotechar\u001b[38;5;241m=\u001b[39m\u001b[38;5;28mself\u001b[39m\u001b[38;5;241m.\u001b[39mquotechar,\n\u001b[0;32m    259\u001b[0m )\n\u001b[1;32m--> 261\u001b[0m \u001b[38;5;28;43mself\u001b[39;49m\u001b[38;5;241;43m.\u001b[39;49m\u001b[43m_save\u001b[49m\u001b[43m(\u001b[49m\u001b[43m)\u001b[49m\n",
      "File \u001b[1;32m~\\anaconda3\\lib\\site-packages\\pandas\\io\\formats\\csvs.py:266\u001b[0m, in \u001b[0;36mCSVFormatter._save\u001b[1;34m(self)\u001b[0m\n\u001b[0;32m    265\u001b[0m     \u001b[38;5;28mself\u001b[39m\u001b[38;5;241m.\u001b[39m_save_header()\n\u001b[1;32m--> 266\u001b[0m \u001b[38;5;28;43mself\u001b[39;49m\u001b[38;5;241;43m.\u001b[39;49m\u001b[43m_save_body\u001b[49m\u001b[43m(\u001b[49m\u001b[43m)\u001b[49m\n",
      "File \u001b[1;32m~\\anaconda3\\lib\\site-packages\\pandas\\io\\formats\\csvs.py:304\u001b[0m, in \u001b[0;36mCSVFormatter._save_body\u001b[1;34m(self)\u001b[0m\n\u001b[0;32m    303\u001b[0m     \u001b[38;5;28;01mbreak\u001b[39;00m\n\u001b[1;32m--> 304\u001b[0m \u001b[38;5;28;43mself\u001b[39;49m\u001b[38;5;241;43m.\u001b[39;49m\u001b[43m_save_chunk\u001b[49m\u001b[43m(\u001b[49m\u001b[43mstart_i\u001b[49m\u001b[43m,\u001b[49m\u001b[43m \u001b[49m\u001b[43mend_i\u001b[49m\u001b[43m)\u001b[49m\n",
      "File \u001b[1;32m~\\anaconda3\\lib\\site-packages\\pandas\\io\\formats\\csvs.py:315\u001b[0m, in \u001b[0;36mCSVFormatter._save_chunk\u001b[1;34m(self, start_i, end_i)\u001b[0m\n\u001b[0;32m    314\u001b[0m ix \u001b[38;5;241m=\u001b[39m \u001b[38;5;28mself\u001b[39m\u001b[38;5;241m.\u001b[39mdata_index[slicer]\u001b[38;5;241m.\u001b[39m_format_native_types(\u001b[38;5;241m*\u001b[39m\u001b[38;5;241m*\u001b[39m\u001b[38;5;28mself\u001b[39m\u001b[38;5;241m.\u001b[39m_number_format)\n\u001b[1;32m--> 315\u001b[0m \u001b[43mlibwriters\u001b[49m\u001b[38;5;241;43m.\u001b[39;49m\u001b[43mwrite_csv_rows\u001b[49m\u001b[43m(\u001b[49m\n\u001b[0;32m    316\u001b[0m \u001b[43m    \u001b[49m\u001b[43mdata\u001b[49m\u001b[43m,\u001b[49m\n\u001b[0;32m    317\u001b[0m \u001b[43m    \u001b[49m\u001b[43mix\u001b[49m\u001b[43m,\u001b[49m\n\u001b[0;32m    318\u001b[0m \u001b[43m    \u001b[49m\u001b[38;5;28;43mself\u001b[39;49m\u001b[38;5;241;43m.\u001b[39;49m\u001b[43mnlevels\u001b[49m\u001b[43m,\u001b[49m\n\u001b[0;32m    319\u001b[0m \u001b[43m    \u001b[49m\u001b[38;5;28;43mself\u001b[39;49m\u001b[38;5;241;43m.\u001b[39;49m\u001b[43mcols\u001b[49m\u001b[43m,\u001b[49m\n\u001b[0;32m    320\u001b[0m \u001b[43m    \u001b[49m\u001b[38;5;28;43mself\u001b[39;49m\u001b[38;5;241;43m.\u001b[39;49m\u001b[43mwriter\u001b[49m\u001b[43m,\u001b[49m\n\u001b[0;32m    321\u001b[0m \u001b[43m\u001b[49m\u001b[43m)\u001b[49m\n",
      "File \u001b[1;32m~\\anaconda3\\lib\\site-packages\\pandas\\_libs\\writers.pyx:72\u001b[0m, in \u001b[0;36mpandas._libs.writers.write_csv_rows\u001b[1;34m()\u001b[0m\n",
      "\u001b[1;31mOSError\u001b[0m: [Errno 28] No space left on device",
      "\nDuring handling of the above exception, another exception occurred:\n",
      "\u001b[1;31mOSError\u001b[0m                                   Traceback (most recent call last)",
      "\u001b[1;31mOSError\u001b[0m: [Errno 28] No space left on device",
      "\nDuring handling of the above exception, another exception occurred:\n",
      "\u001b[1;31mOSError\u001b[0m                                   Traceback (most recent call last)",
      "Input \u001b[1;32mIn [43]\u001b[0m, in \u001b[0;36m<cell line: 4>\u001b[1;34m()\u001b[0m\n\u001b[0;32m      4\u001b[0m \u001b[38;5;28;01mfor\u001b[39;00m k \u001b[38;5;129;01min\u001b[39;00m \u001b[38;5;28mrange\u001b[39m(\u001b[38;5;241m0\u001b[39m, \u001b[38;5;28mlen\u001b[39m(path_oco_2)):\n\u001b[0;32m      5\u001b[0m     data_hf\u001b[38;5;241m=\u001b[39m netCDF\u001b[38;5;241m.\u001b[39mDataset(path_oco_2[k]\u001b[38;5;241m.\u001b[39mstrip(\u001b[38;5;124m'\u001b[39m\u001b[38;5;130;01m\\n\u001b[39;00m\u001b[38;5;124m'\u001b[39m))\n\u001b[1;32m----> 7\u001b[0m     \u001b[43mconvHdf\u001b[49m\u001b[43m(\u001b[49m\u001b[43mdata_hf\u001b[49m\u001b[43m)\u001b[49m\n",
      "Input \u001b[1;32mIn [37]\u001b[0m, in \u001b[0;36mconvHdf\u001b[1;34m(data, n)\u001b[0m\n\u001b[0;32m     27\u001b[0m date\u001b[38;5;241m=\u001b[39m \u001b[38;5;28mstr\u001b[39m(data\u001b[38;5;241m.\u001b[39mvariables[\u001b[38;5;124m'\u001b[39m\u001b[38;5;124msounding_id\u001b[39m\u001b[38;5;124m'\u001b[39m][\u001b[38;5;241m0\u001b[39m])                                   \n\u001b[0;32m     28\u001b[0m \u001b[38;5;66;03m# create a CSV\u001b[39;00m\n\u001b[1;32m---> 29\u001b[0m \u001b[43mdf_xco2\u001b[49m\u001b[38;5;241;43m.\u001b[39;49m\u001b[43mto_csv\u001b[49m\u001b[43m(\u001b[49m\u001b[43mdata\u001b[49m\u001b[38;5;241;43m.\u001b[39;49m\u001b[43mSensor\u001b[49m\u001b[38;5;241;43m+\u001b[39;49m\u001b[38;5;124;43m'\u001b[39;49m\u001b[38;5;124;43m_xco2_\u001b[39;49m\u001b[38;5;124;43m'\u001b[39;49m\u001b[38;5;241;43m+\u001b[39;49m\u001b[43m \u001b[49m\u001b[43mdate\u001b[49m\u001b[38;5;241;43m+\u001b[39;49m\u001b[38;5;124;43m'\u001b[39;49m\u001b[38;5;124;43m_.csv\u001b[39;49m\u001b[38;5;124;43m'\u001b[39;49m\u001b[43m,\u001b[49m\u001b[43m \u001b[49m\u001b[43mindex\u001b[49m\u001b[38;5;241;43m=\u001b[39;49m\u001b[43m \u001b[49m\u001b[38;5;28;43;01mFalse\u001b[39;49;00m\u001b[43m)\u001b[49m\n",
      "File \u001b[1;32m~\\anaconda3\\lib\\site-packages\\pandas\\core\\generic.py:3551\u001b[0m, in \u001b[0;36mNDFrame.to_csv\u001b[1;34m(self, path_or_buf, sep, na_rep, float_format, columns, header, index, index_label, mode, encoding, compression, quoting, quotechar, line_terminator, chunksize, date_format, doublequote, escapechar, decimal, errors, storage_options)\u001b[0m\n\u001b[0;32m   3540\u001b[0m df \u001b[38;5;241m=\u001b[39m \u001b[38;5;28mself\u001b[39m \u001b[38;5;28;01mif\u001b[39;00m \u001b[38;5;28misinstance\u001b[39m(\u001b[38;5;28mself\u001b[39m, ABCDataFrame) \u001b[38;5;28;01melse\u001b[39;00m \u001b[38;5;28mself\u001b[39m\u001b[38;5;241m.\u001b[39mto_frame()\n\u001b[0;32m   3542\u001b[0m formatter \u001b[38;5;241m=\u001b[39m DataFrameFormatter(\n\u001b[0;32m   3543\u001b[0m     frame\u001b[38;5;241m=\u001b[39mdf,\n\u001b[0;32m   3544\u001b[0m     header\u001b[38;5;241m=\u001b[39mheader,\n\u001b[1;32m   (...)\u001b[0m\n\u001b[0;32m   3548\u001b[0m     decimal\u001b[38;5;241m=\u001b[39mdecimal,\n\u001b[0;32m   3549\u001b[0m )\n\u001b[1;32m-> 3551\u001b[0m \u001b[38;5;28;01mreturn\u001b[39;00m \u001b[43mDataFrameRenderer\u001b[49m\u001b[43m(\u001b[49m\u001b[43mformatter\u001b[49m\u001b[43m)\u001b[49m\u001b[38;5;241;43m.\u001b[39;49m\u001b[43mto_csv\u001b[49m\u001b[43m(\u001b[49m\n\u001b[0;32m   3552\u001b[0m \u001b[43m    \u001b[49m\u001b[43mpath_or_buf\u001b[49m\u001b[43m,\u001b[49m\n\u001b[0;32m   3553\u001b[0m \u001b[43m    \u001b[49m\u001b[43mline_terminator\u001b[49m\u001b[38;5;241;43m=\u001b[39;49m\u001b[43mline_terminator\u001b[49m\u001b[43m,\u001b[49m\n\u001b[0;32m   3554\u001b[0m \u001b[43m    \u001b[49m\u001b[43msep\u001b[49m\u001b[38;5;241;43m=\u001b[39;49m\u001b[43msep\u001b[49m\u001b[43m,\u001b[49m\n\u001b[0;32m   3555\u001b[0m \u001b[43m    \u001b[49m\u001b[43mencoding\u001b[49m\u001b[38;5;241;43m=\u001b[39;49m\u001b[43mencoding\u001b[49m\u001b[43m,\u001b[49m\n\u001b[0;32m   3556\u001b[0m \u001b[43m    \u001b[49m\u001b[43merrors\u001b[49m\u001b[38;5;241;43m=\u001b[39;49m\u001b[43merrors\u001b[49m\u001b[43m,\u001b[49m\n\u001b[0;32m   3557\u001b[0m \u001b[43m    \u001b[49m\u001b[43mcompression\u001b[49m\u001b[38;5;241;43m=\u001b[39;49m\u001b[43mcompression\u001b[49m\u001b[43m,\u001b[49m\n\u001b[0;32m   3558\u001b[0m \u001b[43m    \u001b[49m\u001b[43mquoting\u001b[49m\u001b[38;5;241;43m=\u001b[39;49m\u001b[43mquoting\u001b[49m\u001b[43m,\u001b[49m\n\u001b[0;32m   3559\u001b[0m \u001b[43m    \u001b[49m\u001b[43mcolumns\u001b[49m\u001b[38;5;241;43m=\u001b[39;49m\u001b[43mcolumns\u001b[49m\u001b[43m,\u001b[49m\n\u001b[0;32m   3560\u001b[0m \u001b[43m    \u001b[49m\u001b[43mindex_label\u001b[49m\u001b[38;5;241;43m=\u001b[39;49m\u001b[43mindex_label\u001b[49m\u001b[43m,\u001b[49m\n\u001b[0;32m   3561\u001b[0m \u001b[43m    \u001b[49m\u001b[43mmode\u001b[49m\u001b[38;5;241;43m=\u001b[39;49m\u001b[43mmode\u001b[49m\u001b[43m,\u001b[49m\n\u001b[0;32m   3562\u001b[0m \u001b[43m    \u001b[49m\u001b[43mchunksize\u001b[49m\u001b[38;5;241;43m=\u001b[39;49m\u001b[43mchunksize\u001b[49m\u001b[43m,\u001b[49m\n\u001b[0;32m   3563\u001b[0m \u001b[43m    \u001b[49m\u001b[43mquotechar\u001b[49m\u001b[38;5;241;43m=\u001b[39;49m\u001b[43mquotechar\u001b[49m\u001b[43m,\u001b[49m\n\u001b[0;32m   3564\u001b[0m \u001b[43m    \u001b[49m\u001b[43mdate_format\u001b[49m\u001b[38;5;241;43m=\u001b[39;49m\u001b[43mdate_format\u001b[49m\u001b[43m,\u001b[49m\n\u001b[0;32m   3565\u001b[0m \u001b[43m    \u001b[49m\u001b[43mdoublequote\u001b[49m\u001b[38;5;241;43m=\u001b[39;49m\u001b[43mdoublequote\u001b[49m\u001b[43m,\u001b[49m\n\u001b[0;32m   3566\u001b[0m \u001b[43m    \u001b[49m\u001b[43mescapechar\u001b[49m\u001b[38;5;241;43m=\u001b[39;49m\u001b[43mescapechar\u001b[49m\u001b[43m,\u001b[49m\n\u001b[0;32m   3567\u001b[0m \u001b[43m    \u001b[49m\u001b[43mstorage_options\u001b[49m\u001b[38;5;241;43m=\u001b[39;49m\u001b[43mstorage_options\u001b[49m\u001b[43m,\u001b[49m\n\u001b[0;32m   3568\u001b[0m \u001b[43m\u001b[49m\u001b[43m)\u001b[49m\n",
      "File \u001b[1;32m~\\anaconda3\\lib\\site-packages\\pandas\\io\\formats\\format.py:1180\u001b[0m, in \u001b[0;36mDataFrameRenderer.to_csv\u001b[1;34m(self, path_or_buf, encoding, sep, columns, index_label, mode, compression, quoting, quotechar, line_terminator, chunksize, date_format, doublequote, escapechar, errors, storage_options)\u001b[0m\n\u001b[0;32m   1159\u001b[0m     created_buffer \u001b[38;5;241m=\u001b[39m \u001b[38;5;28;01mFalse\u001b[39;00m\n\u001b[0;32m   1161\u001b[0m csv_formatter \u001b[38;5;241m=\u001b[39m CSVFormatter(\n\u001b[0;32m   1162\u001b[0m     path_or_buf\u001b[38;5;241m=\u001b[39mpath_or_buf,\n\u001b[0;32m   1163\u001b[0m     line_terminator\u001b[38;5;241m=\u001b[39mline_terminator,\n\u001b[1;32m   (...)\u001b[0m\n\u001b[0;32m   1178\u001b[0m     formatter\u001b[38;5;241m=\u001b[39m\u001b[38;5;28mself\u001b[39m\u001b[38;5;241m.\u001b[39mfmt,\n\u001b[0;32m   1179\u001b[0m )\n\u001b[1;32m-> 1180\u001b[0m \u001b[43mcsv_formatter\u001b[49m\u001b[38;5;241;43m.\u001b[39;49m\u001b[43msave\u001b[49m\u001b[43m(\u001b[49m\u001b[43m)\u001b[49m\n\u001b[0;32m   1182\u001b[0m \u001b[38;5;28;01mif\u001b[39;00m created_buffer:\n\u001b[0;32m   1183\u001b[0m     \u001b[38;5;28;01massert\u001b[39;00m \u001b[38;5;28misinstance\u001b[39m(path_or_buf, StringIO)\n",
      "File \u001b[1;32m~\\anaconda3\\lib\\site-packages\\pandas\\io\\formats\\csvs.py:261\u001b[0m, in \u001b[0;36mCSVFormatter.save\u001b[1;34m(self)\u001b[0m\n\u001b[0;32m    241\u001b[0m \u001b[38;5;28;01mwith\u001b[39;00m get_handle(\n\u001b[0;32m    242\u001b[0m     \u001b[38;5;28mself\u001b[39m\u001b[38;5;241m.\u001b[39mfilepath_or_buffer,\n\u001b[0;32m    243\u001b[0m     \u001b[38;5;28mself\u001b[39m\u001b[38;5;241m.\u001b[39mmode,\n\u001b[1;32m   (...)\u001b[0m\n\u001b[0;32m    249\u001b[0m \n\u001b[0;32m    250\u001b[0m     \u001b[38;5;66;03m# Note: self.encoding is irrelevant here\u001b[39;00m\n\u001b[0;32m    251\u001b[0m     \u001b[38;5;28mself\u001b[39m\u001b[38;5;241m.\u001b[39mwriter \u001b[38;5;241m=\u001b[39m csvlib\u001b[38;5;241m.\u001b[39mwriter(\n\u001b[0;32m    252\u001b[0m         handles\u001b[38;5;241m.\u001b[39mhandle,\n\u001b[0;32m    253\u001b[0m         lineterminator\u001b[38;5;241m=\u001b[39m\u001b[38;5;28mself\u001b[39m\u001b[38;5;241m.\u001b[39mline_terminator,\n\u001b[1;32m   (...)\u001b[0m\n\u001b[0;32m    258\u001b[0m         quotechar\u001b[38;5;241m=\u001b[39m\u001b[38;5;28mself\u001b[39m\u001b[38;5;241m.\u001b[39mquotechar,\n\u001b[0;32m    259\u001b[0m     )\n\u001b[1;32m--> 261\u001b[0m     \u001b[38;5;28mself\u001b[39m\u001b[38;5;241m.\u001b[39m_save()\n",
      "File \u001b[1;32m~\\anaconda3\\lib\\site-packages\\pandas\\io\\common.py:124\u001b[0m, in \u001b[0;36mIOHandles.__exit__\u001b[1;34m(self, *args)\u001b[0m\n\u001b[0;32m    123\u001b[0m \u001b[38;5;28;01mdef\u001b[39;00m \u001b[38;5;21m__exit__\u001b[39m(\u001b[38;5;28mself\u001b[39m, \u001b[38;5;241m*\u001b[39margs: Any) \u001b[38;5;241m-\u001b[39m\u001b[38;5;241m>\u001b[39m \u001b[38;5;28;01mNone\u001b[39;00m:\n\u001b[1;32m--> 124\u001b[0m     \u001b[38;5;28;43mself\u001b[39;49m\u001b[38;5;241;43m.\u001b[39;49m\u001b[43mclose\u001b[49m\u001b[43m(\u001b[49m\u001b[43m)\u001b[49m\n",
      "File \u001b[1;32m~\\anaconda3\\lib\\site-packages\\pandas\\io\\common.py:116\u001b[0m, in \u001b[0;36mIOHandles.close\u001b[1;34m(self)\u001b[0m\n\u001b[0;32m    114\u001b[0m     \u001b[38;5;28mself\u001b[39m\u001b[38;5;241m.\u001b[39mcreated_handles\u001b[38;5;241m.\u001b[39mremove(\u001b[38;5;28mself\u001b[39m\u001b[38;5;241m.\u001b[39mhandle)\n\u001b[0;32m    115\u001b[0m \u001b[38;5;28;01mfor\u001b[39;00m handle \u001b[38;5;129;01min\u001b[39;00m \u001b[38;5;28mself\u001b[39m\u001b[38;5;241m.\u001b[39mcreated_handles:\n\u001b[1;32m--> 116\u001b[0m     \u001b[43mhandle\u001b[49m\u001b[38;5;241;43m.\u001b[39;49m\u001b[43mclose\u001b[49m\u001b[43m(\u001b[49m\u001b[43m)\u001b[49m\n\u001b[0;32m    117\u001b[0m \u001b[38;5;28mself\u001b[39m\u001b[38;5;241m.\u001b[39mcreated_handles \u001b[38;5;241m=\u001b[39m []\n\u001b[0;32m    118\u001b[0m \u001b[38;5;28mself\u001b[39m\u001b[38;5;241m.\u001b[39mis_wrapped \u001b[38;5;241m=\u001b[39m \u001b[38;5;28;01mFalse\u001b[39;00m\n",
      "\u001b[1;31mOSError\u001b[0m: [Errno 28] No space left on device"
     ]
    }
   ],
   "source": [
    "#### Using Function to READ directory and convert all HDF files to csv    \n",
    "#### LISTING the path of FILES\n",
    "\n",
    "for k in range(0, len(path_oco_2)):\n",
    "    data_hf= netCDF.Dataset(path_oco_2[k].strip('\\n'))\n",
    "\n",
    "    convHdf(data_hf)"
   ]
  },
  {
   "cell_type": "code",
   "execution_count": null,
   "id": "a9657e0e",
   "metadata": {},
   "outputs": [],
   "source": []
  }
 ],
 "metadata": {
  "kernelspec": {
   "display_name": "Python 3 (ipykernel)",
   "language": "python",
   "name": "python3"
  },
  "language_info": {
   "codemirror_mode": {
    "name": "ipython",
    "version": 3
   },
   "file_extension": ".py",
   "mimetype": "text/x-python",
   "name": "python",
   "nbconvert_exporter": "python",
   "pygments_lexer": "ipython3",
   "version": "3.9.12"
  }
 },
 "nbformat": 4,
 "nbformat_minor": 5
}

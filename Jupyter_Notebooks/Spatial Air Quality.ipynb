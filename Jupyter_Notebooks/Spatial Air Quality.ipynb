{
 "cells": [
  {
   "cell_type": "code",
   "execution_count": 1,
   "id": "1135f7e8",
   "metadata": {},
   "outputs": [],
   "source": [
    "# This package helps us reach out to the API\n",
    "import requests \n",
    "# This package is necessary to ensure you receive data in a JSON format\n",
    "import json "
   ]
  },
  {
   "cell_type": "code",
   "execution_count": 16,
   "id": "fb83fbfc",
   "metadata": {},
   "outputs": [],
   "source": [
    "mydict={\n",
    "  'api-key': 'b01468f5-c48f-5758-8a5e-80eb9ca17ebf', \n",
    "  'product': 'pm25',\n",
    "  'region': 'patna',\n",
    "  'regionType': 'district',\n",
    "  'duration': '1d'\n",
    "}\n"
   ]
  },
  {
   "cell_type": "code",
   "execution_count": 17,
   "id": "9b079ef3",
   "metadata": {},
   "outputs": [
    {
     "name": "stdout",
     "output_type": "stream",
     "text": [
      "{\n",
      "  \"message\": \"Bad Request\"\n",
      "}\n"
     ]
    }
   ],
   "source": [
    "#Making an API call and displaying the output.\n",
    "request=requests.get(\"https://gateway.blueskyhq.io/api/breezo/spatial\", params = mydict).json()\n",
    "print(json.dumps(request, indent=2))"
   ]
  },
  {
   "cell_type": "code",
   "execution_count": null,
   "id": "cabe5645",
   "metadata": {},
   "outputs": [],
   "source": [
    "# Getting the fire and emissions data\n",
    "params_portugal = {\n",
    "    \"api-key\": \"YOUR BSA API KEY HERE\",\n",
    "    \"shapeId\": \"213e2599-2cc0-462b-9e62-392aa56868f0\",\n",
    "    \"startDate\": \"2018-01-01T00:00:00.000Z\",\n",
    "    \"endDate\": \"2021-12-31T00:00:00.000Z\",\n",
    "    \"raw\": \"false\",\n",
    "    \"adminLevelBucket\": \"2\",\n",
    "    \"keys\": \"co2_emission_estimate\",\n",
    "}\n",
    "\n",
    "# Making an API call\n",
    "portgual_data = requests.get(\"https://gateway.blueskyhq.io/api/zuri/fires?\",\n",
    "                             params=params_portugal).json()\n",
    "\n",
    "# Getting the data in a more accessible format -> Pandas Dataframe\n",
    "portugal = pd.DataFrame(portugal_data['data'])"
   ]
  }
 ],
 "metadata": {
  "kernelspec": {
   "display_name": "Python 3 (ipykernel)",
   "language": "python",
   "name": "python3"
  },
  "language_info": {
   "codemirror_mode": {
    "name": "ipython",
    "version": 3
   },
   "file_extension": ".py",
   "mimetype": "text/x-python",
   "name": "python",
   "nbconvert_exporter": "python",
   "pygments_lexer": "ipython3",
   "version": "3.9.12"
  }
 },
 "nbformat": 4,
 "nbformat_minor": 5
}

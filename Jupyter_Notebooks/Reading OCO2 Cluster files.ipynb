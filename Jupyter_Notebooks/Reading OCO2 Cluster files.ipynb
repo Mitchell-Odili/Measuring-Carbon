{
 "cells": [
  {
   "cell_type": "markdown",
   "id": "8894c649",
   "metadata": {},
   "source": [
    "# Reading the Individual files from ALL directories\n",
    "## Libraries:\n",
    "### OS\n",
    "- OS walks over the directories and reads the files individually"
   ]
  },
  {
   "cell_type": "code",
   "execution_count": 1,
   "id": "36038b5b",
   "metadata": {},
   "outputs": [],
   "source": [
    "import pandas as pd\n",
    "import numpy as np\n",
    "import matplotlib.pyplot as plt\n",
    "import seaborn as sns; sns.set()\n",
    "import netCDF4 as nc\n",
    "\n",
    "import os"
   ]
  },
  {
   "cell_type": "code",
   "execution_count": 14,
   "id": "1263c3d6",
   "metadata": {},
   "outputs": [],
   "source": [
    "## Libraries\n",
    "from urllib import request, parse\n",
    "# from http.cookiejar import CookieJar\n",
    "import getpass\n",
    "import netrc\n",
    "import os\n",
    "import requests\n",
    "# import json\n",
    "# import pprint\n",
    "# from osgeo import gdal\n",
    "# import matplotlib.pyplot as plt\n",
    "import matplotlib.image as mpimg\n",
    "#import rasterio\n",
    "#from rasterio.plot import show\n",
    "import numpy as np\n",
    "import os\n",
    "import time\n",
    "from netCDF4 import Dataset\n",
    "# from owslib.wms import WebMapService\n",
    "\n",
    "# pydap library to open session\n",
    "from pydap import client\n",
    "from pydap.cas.urs import setup_session\n",
    "from pydap.client import open_url\n",
    "%matplotlib inline"
   ]
  },
  {
   "cell_type": "code",
   "execution_count": 2,
   "id": "295c646b",
   "metadata": {},
   "outputs": [],
   "source": [
    "import warnings\n",
    "\n",
    "warnings.filterwarnings('ignore')"
   ]
  },
  {
   "cell_type": "markdown",
   "id": "3ed0518a",
   "metadata": {},
   "source": [
    "## Identify a data collection of interest\n",
    "- In this example, the data sources for downloading the OCO2 and OCO3 data have different sources:\n",
    "* From gesdisc.eosdis:\n",
    "    https://oco2.gesdisc.eosdis.nasa.gov/data//\n",
    "* From pydap:\n",
    "    https://oco2.gesdisc.eosdis.nasa.gov/opendap/\n",
    "    \n",
    "### FORMAT strucutre of the file\n",
    "#### OCO2 data downloads from geodisc\n",
    "\n",
    "* Data sources: Using the following optional website to get the data\n",
    "* https://oco2.gesdisc.eosdis.nasa.gov/data//\n",
    "* (openDap)https://oco2.gesdisc.eosdis.nasa.gov/\n",
    "\n",
    "* platform/Instrument:\n",
    "    - OCO2_DATA/\n",
    "    \n",
    "* Level:\n",
    "    - OCO2_L2_Lite_FP.10r\n",
    "    \n",
    "* Year:\n",
    "    - /2020\n",
    "\n",
    "* Filename:\n",
    "    - oco2_LtCO2_200109_B10206Ar_200728203551s.nc4\n"
   ]
  },
  {
   "cell_type": "code",
   "execution_count": 10,
   "id": "73242140",
   "metadata": {},
   "outputs": [],
   "source": [
    "def get_session(url, file_name):\n",
    "    \"\"\"\n",
    "    Creating a session with url and filename in openDap for data retrieval\n",
    "    https://oco2.gesdisc.eosdis.nasa.gov/opendap/\n",
    "    \"\"\"\n",
    "    try:\n",
    "        login_credentials= 'uat.urs.earthdata.nasa.gov'\n",
    "        username, _, password = netrc.netrc().authenticators(login_credentials)\n",
    "    except (FileNotFoundError, TypeError):\n",
    "        # FileNotFound = There's no .netrc file\n",
    "        # TypeError = The endpoint isn't in the netrc file, causing the above to try unpacking None\n",
    "        print('\\n*******************************************\\n')\n",
    "        print('Please provide your Earthdata Login credentials to allow data access\\n')\n",
    "        print('Your credentials will only be passed to %s and will not be exposed in Jupyter' % (url))\n",
    "        print('\\n')\n",
    "        username = input('Username:')\n",
    "        password = getpass.getpass()\n",
    "        print('\\n*******************************************\\n')\n",
    "        \n",
    "    # pydap session\n",
    "    session = setup_session(username, password, check_url= url + file_name)\n",
    "    \n",
    "    # using the session to get access the data\n",
    "    return session"
   ]
  },
  {
   "cell_type": "markdown",
   "id": "9c477248",
   "metadata": {},
   "source": [
    "### Example: Read the file from the OpenDap Source"
   ]
  },
  {
   "cell_type": "code",
   "execution_count": 17,
   "id": "1afa2292",
   "metadata": {},
   "outputs": [],
   "source": [
    "url='https://oco2.gesdisc.eosdis.nasa.gov/'\n",
    "file_name= 'opendap/OCO2_L2_Lite_FP.10r/2020/'"
   ]
  },
  {
   "cell_type": "code",
   "execution_count": 15,
   "id": "69427148",
   "metadata": {},
   "outputs": [
    {
     "name": "stdout",
     "output_type": "stream",
     "text": [
      "\n",
      "*******************************************\n",
      "\n",
      "Please provide your Earthdata Login credentials to allow data access\n",
      "\n",
      "Your credentials will only be passed to https://oco2.gesdisc.eosdis.nasa.gov/ and will not be exposed in Jupyter\n",
      "\n",
      "\n",
      "Username:Mitchell_Odili\n",
      "········\n",
      "\n",
      "*******************************************\n",
      "\n"
     ]
    }
   ],
   "source": [
    "# get session from the URL and filename\n",
    "session= get_session(url, file_name)"
   ]
  },
  {
   "cell_type": "code",
   "execution_count": 18,
   "id": "2bcfa58f",
   "metadata": {},
   "outputs": [
    {
     "ename": "HTTPError",
     "evalue": "404 Not Found\n\n\n\n\n\n\n\n<!DOCTYPE html PUBLIC \"-//W3C//DTD XHTML 1.0 Transitional//EN\" \"http://www.w3.org/TR/xhtml1/DTD/xhtml1-transitional.dtd\">\n\n\n<html xmlns=\"http://www.w3.org/1999/xhtml\">\n<head>\n    <meta http-equiv=\"Content-Type\" content=\"text/html; charset=UTF-8\"/>\n    <link rel='stylesheet' href='/opendap/docs/css/contents.css' type='text/css'/>\n    <title>Hyrax - Resource Not Found (404)</title>\n</head>\n\n<body>\n<p align=\"left\">&nbsp;</p>\n\n<h1 align=\"center\">Hyrax - Resource Not Found (404)</h1>\n<hr align=\"left\" size=\"1\" noshade=\"noshade\"/>\n<table width=\"100%\" border=\"0\">\n    <tr>\n        <td>\n            <a href=\"/opendap/docs/images/largeEarth.jpg\">\n            <img src=\"/opendap/docs/images/smallEarth.jpg\"\n                 alt=\"I looked everywhere!\"\n                 title=\"I looked everywhere!\"\n                 border=\"0\"/>\n            </a>\n        </td>\n\n        <td>\n            <p align=\"left\">The URL requested does not describe a resource that can be found on this server.</p>\n\n            <p align=\"left\">If you would like to start at the top level of this server, go <a\n                    href=\"/opendap/\"><strong>HERE</strong></a>.</p>\n\n            \n            <p align=\"left\">The specific error message associated with your request was:</p>\n            <blockquote> <p><strong>Failed to locate resource: /OCO2_L2_Lite_FP.10r/2020/.dds </strong></p> </blockquote>\n            \n            \n            <p align=\"left\"> If you think that the server is broken (that the URL you submitted should have worked),\n                then please contact the OPeNDAP user support coordinator at:\n                <a href=\"mailto:support@opendap.org?subject=Hyrax Error 404&amp;body=%0A%0A%0A%0A%0A# -- -- -- -- -- -- -- -- -- -- -- -- -- -- -- -- --%0A# %0A# We&#39;re sorry you had a problem using the server.%0A# Please use the space above to describe what you%0A# were trying to do and we will try to assist you.%0A# Thanks,%0A# OPeNDAP Support.%0A# %0A# -- -- -- hyrax error info, please include -- -- --%0A# %0A# request_url: https://oco2.gesdisc.eosdis.nasa.gov/opendap/error/error404.jsp%0A# protocol: HTTP/1.1%0A# server: oco2.gesdisc.eosdis.nasa.gov%0A# port: 443%0A# javax.servlet.forward.request_uri: /opendap/OCO2_L2_Lite_FP.10r/2020/.dds%0A# query_string: n/a%0A# status: 404%0A# message: Failed to locate resource: /OCO2_L2_Lite_FP.10r/2020/.dds%0A# %0A# -- -- -- -- -- -- -- -- -- -- -- -- -- -- -- -- --%0A\">support@opendap.org</a>\n            </p>\n            \n\n        </td>\n    </tr>\n</table>\n<hr align=\"left\" size=\"1\" noshade=\"noshade\"/>\n<h1 align=\"center\">Hyrax - Resource Not Found (404)</h1>\n</body>\n</html>\n",
     "output_type": "error",
     "traceback": [
      "\u001b[1;31m---------------------------------------------------------------------------\u001b[0m",
      "\u001b[1;31mHTTPError\u001b[0m                                 Traceback (most recent call last)",
      "Input \u001b[1;32mIn [18]\u001b[0m, in \u001b[0;36m<cell line: 1>\u001b[1;34m()\u001b[0m\n\u001b[1;32m----> 1\u001b[0m pydap_df\u001b[38;5;241m=\u001b[39m \u001b[43mopen_url\u001b[49m\u001b[43m(\u001b[49m\u001b[43murl\u001b[49m\u001b[38;5;241;43m+\u001b[39;49m\u001b[43mfile_name\u001b[49m\u001b[43m,\u001b[49m\u001b[43m \u001b[49m\u001b[43msession\u001b[49m\u001b[43m \u001b[49m\u001b[38;5;241;43m=\u001b[39;49m\u001b[43m \u001b[49m\u001b[43msession\u001b[49m\u001b[43m)\u001b[49m\n",
      "File \u001b[1;32m~\\anaconda3\\lib\\site-packages\\pydap\\client.py:66\u001b[0m, in \u001b[0;36mopen_url\u001b[1;34m(url, application, session, output_grid, timeout)\u001b[0m\n\u001b[0;32m     58\u001b[0m \u001b[38;5;28;01mdef\u001b[39;00m \u001b[38;5;21mopen_url\u001b[39m(url, application\u001b[38;5;241m=\u001b[39m\u001b[38;5;28;01mNone\u001b[39;00m, session\u001b[38;5;241m=\u001b[39m\u001b[38;5;28;01mNone\u001b[39;00m, output_grid\u001b[38;5;241m=\u001b[39m\u001b[38;5;28;01mTrue\u001b[39;00m,\n\u001b[0;32m     59\u001b[0m              timeout\u001b[38;5;241m=\u001b[39mDEFAULT_TIMEOUT):\n\u001b[0;32m     60\u001b[0m     \u001b[38;5;124;03m\"\"\"\u001b[39;00m\n\u001b[0;32m     61\u001b[0m \u001b[38;5;124;03m    Open a remote URL, returning a dataset.\u001b[39;00m\n\u001b[0;32m     62\u001b[0m \n\u001b[0;32m     63\u001b[0m \u001b[38;5;124;03m    set output_grid to False to retrieve only main arrays and\u001b[39;00m\n\u001b[0;32m     64\u001b[0m \u001b[38;5;124;03m    never retrieve coordinate axes.\u001b[39;00m\n\u001b[0;32m     65\u001b[0m \u001b[38;5;124;03m    \"\"\"\u001b[39;00m\n\u001b[1;32m---> 66\u001b[0m     dataset \u001b[38;5;241m=\u001b[39m \u001b[43mDAPHandler\u001b[49m\u001b[43m(\u001b[49m\u001b[43murl\u001b[49m\u001b[43m,\u001b[49m\u001b[43m \u001b[49m\u001b[43mapplication\u001b[49m\u001b[43m,\u001b[49m\u001b[43m \u001b[49m\u001b[43msession\u001b[49m\u001b[43m,\u001b[49m\u001b[43m \u001b[49m\u001b[43moutput_grid\u001b[49m\u001b[43m,\u001b[49m\n\u001b[0;32m     67\u001b[0m \u001b[43m                         \u001b[49m\u001b[43mtimeout\u001b[49m\u001b[43m)\u001b[49m\u001b[38;5;241m.\u001b[39mdataset\n\u001b[0;32m     69\u001b[0m     \u001b[38;5;66;03m# attach server-side functions\u001b[39;00m\n\u001b[0;32m     70\u001b[0m     dataset\u001b[38;5;241m.\u001b[39mfunctions \u001b[38;5;241m=\u001b[39m Functions(url, application, session)\n",
      "File \u001b[1;32m~\\anaconda3\\lib\\site-packages\\pydap\\handlers\\dap.py:54\u001b[0m, in \u001b[0;36mDAPHandler.__init__\u001b[1;34m(self, url, application, session, output_grid, timeout)\u001b[0m\n\u001b[0;32m     52\u001b[0m ddsurl \u001b[38;5;241m=\u001b[39m urlunsplit((scheme, netloc, path \u001b[38;5;241m+\u001b[39m \u001b[38;5;124m'\u001b[39m\u001b[38;5;124m.dds\u001b[39m\u001b[38;5;124m'\u001b[39m, query, fragment))\n\u001b[0;32m     53\u001b[0m r \u001b[38;5;241m=\u001b[39m GET(ddsurl, application, session, timeout\u001b[38;5;241m=\u001b[39mtimeout)\n\u001b[1;32m---> 54\u001b[0m \u001b[43mraise_for_status\u001b[49m\u001b[43m(\u001b[49m\u001b[43mr\u001b[49m\u001b[43m)\u001b[49m\n\u001b[0;32m     55\u001b[0m \u001b[38;5;28;01mif\u001b[39;00m \u001b[38;5;129;01mnot\u001b[39;00m r\u001b[38;5;241m.\u001b[39mcharset:\n\u001b[0;32m     56\u001b[0m     r\u001b[38;5;241m.\u001b[39mcharset \u001b[38;5;241m=\u001b[39m \u001b[38;5;124m'\u001b[39m\u001b[38;5;124mascii\u001b[39m\u001b[38;5;124m'\u001b[39m\n",
      "File \u001b[1;32m~\\anaconda3\\lib\\site-packages\\pydap\\net.py:33\u001b[0m, in \u001b[0;36mraise_for_status\u001b[1;34m(response)\u001b[0m\n\u001b[0;32m     30\u001b[0m \u001b[38;5;28;01mdef\u001b[39;00m \u001b[38;5;21mraise_for_status\u001b[39m(response):\n\u001b[0;32m     31\u001b[0m     \u001b[38;5;66;03m# Raise error if status is above 300:\u001b[39;00m\n\u001b[0;32m     32\u001b[0m     \u001b[38;5;28;01mif\u001b[39;00m response\u001b[38;5;241m.\u001b[39mstatus_code \u001b[38;5;241m>\u001b[39m\u001b[38;5;241m=\u001b[39m \u001b[38;5;241m300\u001b[39m:\n\u001b[1;32m---> 33\u001b[0m         \u001b[38;5;28;01mraise\u001b[39;00m HTTPError(\n\u001b[0;32m     34\u001b[0m             detail\u001b[38;5;241m=\u001b[39mresponse\u001b[38;5;241m.\u001b[39mstatus\u001b[38;5;241m+\u001b[39m\u001b[38;5;124m'\u001b[39m\u001b[38;5;130;01m\\n\u001b[39;00m\u001b[38;5;124m'\u001b[39m\u001b[38;5;241m+\u001b[39mresponse\u001b[38;5;241m.\u001b[39mtext,\n\u001b[0;32m     35\u001b[0m             headers\u001b[38;5;241m=\u001b[39mresponse\u001b[38;5;241m.\u001b[39mheaders,\n\u001b[0;32m     36\u001b[0m             comment\u001b[38;5;241m=\u001b[39mresponse\u001b[38;5;241m.\u001b[39mbody\n\u001b[0;32m     37\u001b[0m         )\n",
      "\u001b[1;31mHTTPError\u001b[0m: 404 Not Found\n\n\n\n\n\n\n\n<!DOCTYPE html PUBLIC \"-//W3C//DTD XHTML 1.0 Transitional//EN\" \"http://www.w3.org/TR/xhtml1/DTD/xhtml1-transitional.dtd\">\n\n\n<html xmlns=\"http://www.w3.org/1999/xhtml\">\n<head>\n    <meta http-equiv=\"Content-Type\" content=\"text/html; charset=UTF-8\"/>\n    <link rel='stylesheet' href='/opendap/docs/css/contents.css' type='text/css'/>\n    <title>Hyrax - Resource Not Found (404)</title>\n</head>\n\n<body>\n<p align=\"left\">&nbsp;</p>\n\n<h1 align=\"center\">Hyrax - Resource Not Found (404)</h1>\n<hr align=\"left\" size=\"1\" noshade=\"noshade\"/>\n<table width=\"100%\" border=\"0\">\n    <tr>\n        <td>\n            <a href=\"/opendap/docs/images/largeEarth.jpg\">\n            <img src=\"/opendap/docs/images/smallEarth.jpg\"\n                 alt=\"I looked everywhere!\"\n                 title=\"I looked everywhere!\"\n                 border=\"0\"/>\n            </a>\n        </td>\n\n        <td>\n            <p align=\"left\">The URL requested does not describe a resource that can be found on this server.</p>\n\n            <p align=\"left\">If you would like to start at the top level of this server, go <a\n                    href=\"/opendap/\"><strong>HERE</strong></a>.</p>\n\n            \n            <p align=\"left\">The specific error message associated with your request was:</p>\n            <blockquote> <p><strong>Failed to locate resource: /OCO2_L2_Lite_FP.10r/2020/.dds </strong></p> </blockquote>\n            \n            \n            <p align=\"left\"> If you think that the server is broken (that the URL you submitted should have worked),\n                then please contact the OPeNDAP user support coordinator at:\n                <a href=\"mailto:support@opendap.org?subject=Hyrax Error 404&amp;body=%0A%0A%0A%0A%0A# -- -- -- -- -- -- -- -- -- -- -- -- -- -- -- -- --%0A# %0A# We&#39;re sorry you had a problem using the server.%0A# Please use the space above to describe what you%0A# were trying to do and we will try to assist you.%0A# Thanks,%0A# OPeNDAP Support.%0A# %0A# -- -- -- hyrax error info, please include -- -- --%0A# %0A# request_url: https://oco2.gesdisc.eosdis.nasa.gov/opendap/error/error404.jsp%0A# protocol: HTTP/1.1%0A# server: oco2.gesdisc.eosdis.nasa.gov%0A# port: 443%0A# javax.servlet.forward.request_uri: /opendap/OCO2_L2_Lite_FP.10r/2020/.dds%0A# query_string: n/a%0A# status: 404%0A# message: Failed to locate resource: /OCO2_L2_Lite_FP.10r/2020/.dds%0A# %0A# -- -- -- -- -- -- -- -- -- -- -- -- -- -- -- -- --%0A\">support@opendap.org</a>\n            </p>\n            \n\n        </td>\n    </tr>\n</table>\n<hr align=\"left\" size=\"1\" noshade=\"noshade\"/>\n<h1 align=\"center\">Hyrax - Resource Not Found (404)</h1>\n</body>\n</html>\n"
     ]
    }
   ],
   "source": [
    "pydap_df= open_url(url+file_name, session = session)"
   ]
  },
  {
   "cell_type": "code",
   "execution_count": null,
   "id": "dc43a021",
   "metadata": {},
   "outputs": [],
   "source": []
  },
  {
   "cell_type": "markdown",
   "id": "78cc4756",
   "metadata": {},
   "source": [
    "# EXAMPLE:\n",
    "- READING the files from the following directory\n",
    "- FOR 2020 datasets"
   ]
  },
  {
   "cell_type": "code",
   "execution_count": 19,
   "id": "a35c0135",
   "metadata": {},
   "outputs": [],
   "source": [
    "file_path_2020= []\n",
    "\n",
    "for root, dirs, files in os.walk('C:/Users/Ochibobo/Arset/subset_OCO2_L2_Lite_FP_10r_20220812_094622.txt'):\n",
    "    for filename in files:\n",
    "        print(os.path.join(root, filename))\n",
    "        \n",
    "        # Append the files into list\n",
    "        file_path_2020.append(os.path.join(root, filename))"
   ]
  },
  {
   "cell_type": "code",
   "execution_count": 20,
   "id": "631e0653",
   "metadata": {},
   "outputs": [
    {
     "data": {
      "text/plain": [
       "0"
      ]
     },
     "execution_count": 20,
     "metadata": {},
     "output_type": "execute_result"
    }
   ],
   "source": [
    "len(file_path_2020)"
   ]
  },
  {
   "cell_type": "code",
   "execution_count": null,
   "id": "b2d9c2f1",
   "metadata": {},
   "outputs": [],
   "source": []
  }
 ],
 "metadata": {
  "kernelspec": {
   "display_name": "Python 3 (ipykernel)",
   "language": "python",
   "name": "python3"
  },
  "language_info": {
   "codemirror_mode": {
    "name": "ipython",
    "version": 3
   },
   "file_extension": ".py",
   "mimetype": "text/x-python",
   "name": "python",
   "nbconvert_exporter": "python",
   "pygments_lexer": "ipython3",
   "version": "3.9.12"
  }
 },
 "nbformat": 4,
 "nbformat_minor": 5
}
